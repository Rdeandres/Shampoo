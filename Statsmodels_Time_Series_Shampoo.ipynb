{
  "nbformat": 4,
  "nbformat_minor": 0,
  "metadata": {
    "colab": {
      "name": "Statsmodels- Time Series - Shampoo.ipynb",
      "provenance": [],
      "collapsed_sections": []
    },
    "kernelspec": {
      "name": "python3",
      "display_name": "Python 3"
    }
  },
  "cells": [
    {
      "cell_type": "markdown",
      "metadata": {
        "id": "w2uRW91qa4B_"
      },
      "source": [
        "Import libraries"
      ]
    },
    {
      "cell_type": "code",
      "metadata": {
        "id": "JuLFcW8sftqH"
      },
      "source": [
        "import pandas as pd\n",
        "import numpy as np\n",
        "from pandas import read_csv\n",
        "from pandas import datetime\n",
        "from pandas import DataFrame\n",
        "import matplotlib.pyplot as plt"
      ],
      "execution_count": null,
      "outputs": []
    },
    {
      "cell_type": "markdown",
      "metadata": {
        "id": "zPpxiwxua8XJ"
      },
      "source": [
        "Load files"
      ]
    },
    {
      "cell_type": "code",
      "metadata": {
        "id": "742X-seCgFy8",
        "colab": {
          "base_uri": "https://localhost:8080/"
        },
        "outputId": "8030fc74-d0be-460b-8f33-6c618a9d8cb6"
      },
      "source": [
        "def parser(x):\n",
        "\treturn datetime.strptime('190'+x, '%Y-%m')\n",
        "series = read_csv('https://raw.githubusercontent.com/jbrownlee/Datasets/master/shampoo.csv', header=0, parse_dates=[0],  squeeze=True, date_parser=parser) #index_col=0,"
      ],
      "execution_count": null,
      "outputs": [
        {
          "output_type": "stream",
          "text": [
            "/usr/local/lib/python3.6/dist-packages/ipykernel_launcher.py:2: FutureWarning: The pandas.datetime class is deprecated and will be removed from pandas in a future version. Import from datetime instead.\n",
            "  \n"
          ],
          "name": "stderr"
        }
      ]
    },
    {
      "cell_type": "code",
      "metadata": {
        "id": "R3aFj-Kt5Bm1",
        "colab": {
          "base_uri": "https://localhost:8080/",
          "height": 1000
        },
        "outputId": "e6d66cc7-bc48-462b-8ce8-21bd3b811669"
      },
      "source": [
        "series"
      ],
      "execution_count": null,
      "outputs": [
        {
          "output_type": "execute_result",
          "data": {
            "text/html": [
              "<div>\n",
              "<style scoped>\n",
              "    .dataframe tbody tr th:only-of-type {\n",
              "        vertical-align: middle;\n",
              "    }\n",
              "\n",
              "    .dataframe tbody tr th {\n",
              "        vertical-align: top;\n",
              "    }\n",
              "\n",
              "    .dataframe thead th {\n",
              "        text-align: right;\n",
              "    }\n",
              "</style>\n",
              "<table border=\"1\" class=\"dataframe\">\n",
              "  <thead>\n",
              "    <tr style=\"text-align: right;\">\n",
              "      <th></th>\n",
              "      <th>Month</th>\n",
              "      <th>Sales</th>\n",
              "    </tr>\n",
              "  </thead>\n",
              "  <tbody>\n",
              "    <tr>\n",
              "      <th>0</th>\n",
              "      <td>1901-01-01</td>\n",
              "      <td>266.0</td>\n",
              "    </tr>\n",
              "    <tr>\n",
              "      <th>1</th>\n",
              "      <td>1901-02-01</td>\n",
              "      <td>145.9</td>\n",
              "    </tr>\n",
              "    <tr>\n",
              "      <th>2</th>\n",
              "      <td>1901-03-01</td>\n",
              "      <td>183.1</td>\n",
              "    </tr>\n",
              "    <tr>\n",
              "      <th>3</th>\n",
              "      <td>1901-04-01</td>\n",
              "      <td>119.3</td>\n",
              "    </tr>\n",
              "    <tr>\n",
              "      <th>4</th>\n",
              "      <td>1901-05-01</td>\n",
              "      <td>180.3</td>\n",
              "    </tr>\n",
              "    <tr>\n",
              "      <th>5</th>\n",
              "      <td>1901-06-01</td>\n",
              "      <td>168.5</td>\n",
              "    </tr>\n",
              "    <tr>\n",
              "      <th>6</th>\n",
              "      <td>1901-07-01</td>\n",
              "      <td>231.8</td>\n",
              "    </tr>\n",
              "    <tr>\n",
              "      <th>7</th>\n",
              "      <td>1901-08-01</td>\n",
              "      <td>224.5</td>\n",
              "    </tr>\n",
              "    <tr>\n",
              "      <th>8</th>\n",
              "      <td>1901-09-01</td>\n",
              "      <td>192.8</td>\n",
              "    </tr>\n",
              "    <tr>\n",
              "      <th>9</th>\n",
              "      <td>1901-10-01</td>\n",
              "      <td>122.9</td>\n",
              "    </tr>\n",
              "    <tr>\n",
              "      <th>10</th>\n",
              "      <td>1901-11-01</td>\n",
              "      <td>336.5</td>\n",
              "    </tr>\n",
              "    <tr>\n",
              "      <th>11</th>\n",
              "      <td>1901-12-01</td>\n",
              "      <td>185.9</td>\n",
              "    </tr>\n",
              "    <tr>\n",
              "      <th>12</th>\n",
              "      <td>1902-01-01</td>\n",
              "      <td>194.3</td>\n",
              "    </tr>\n",
              "    <tr>\n",
              "      <th>13</th>\n",
              "      <td>1902-02-01</td>\n",
              "      <td>149.5</td>\n",
              "    </tr>\n",
              "    <tr>\n",
              "      <th>14</th>\n",
              "      <td>1902-03-01</td>\n",
              "      <td>210.1</td>\n",
              "    </tr>\n",
              "    <tr>\n",
              "      <th>15</th>\n",
              "      <td>1902-04-01</td>\n",
              "      <td>273.3</td>\n",
              "    </tr>\n",
              "    <tr>\n",
              "      <th>16</th>\n",
              "      <td>1902-05-01</td>\n",
              "      <td>191.4</td>\n",
              "    </tr>\n",
              "    <tr>\n",
              "      <th>17</th>\n",
              "      <td>1902-06-01</td>\n",
              "      <td>287.0</td>\n",
              "    </tr>\n",
              "    <tr>\n",
              "      <th>18</th>\n",
              "      <td>1902-07-01</td>\n",
              "      <td>226.0</td>\n",
              "    </tr>\n",
              "    <tr>\n",
              "      <th>19</th>\n",
              "      <td>1902-08-01</td>\n",
              "      <td>303.6</td>\n",
              "    </tr>\n",
              "    <tr>\n",
              "      <th>20</th>\n",
              "      <td>1902-09-01</td>\n",
              "      <td>289.9</td>\n",
              "    </tr>\n",
              "    <tr>\n",
              "      <th>21</th>\n",
              "      <td>1902-10-01</td>\n",
              "      <td>421.6</td>\n",
              "    </tr>\n",
              "    <tr>\n",
              "      <th>22</th>\n",
              "      <td>1902-11-01</td>\n",
              "      <td>264.5</td>\n",
              "    </tr>\n",
              "    <tr>\n",
              "      <th>23</th>\n",
              "      <td>1902-12-01</td>\n",
              "      <td>342.3</td>\n",
              "    </tr>\n",
              "    <tr>\n",
              "      <th>24</th>\n",
              "      <td>1903-01-01</td>\n",
              "      <td>339.7</td>\n",
              "    </tr>\n",
              "    <tr>\n",
              "      <th>25</th>\n",
              "      <td>1903-02-01</td>\n",
              "      <td>440.4</td>\n",
              "    </tr>\n",
              "    <tr>\n",
              "      <th>26</th>\n",
              "      <td>1903-03-01</td>\n",
              "      <td>315.9</td>\n",
              "    </tr>\n",
              "    <tr>\n",
              "      <th>27</th>\n",
              "      <td>1903-04-01</td>\n",
              "      <td>439.3</td>\n",
              "    </tr>\n",
              "    <tr>\n",
              "      <th>28</th>\n",
              "      <td>1903-05-01</td>\n",
              "      <td>401.3</td>\n",
              "    </tr>\n",
              "    <tr>\n",
              "      <th>29</th>\n",
              "      <td>1903-06-01</td>\n",
              "      <td>437.4</td>\n",
              "    </tr>\n",
              "    <tr>\n",
              "      <th>30</th>\n",
              "      <td>1903-07-01</td>\n",
              "      <td>575.5</td>\n",
              "    </tr>\n",
              "    <tr>\n",
              "      <th>31</th>\n",
              "      <td>1903-08-01</td>\n",
              "      <td>407.6</td>\n",
              "    </tr>\n",
              "    <tr>\n",
              "      <th>32</th>\n",
              "      <td>1903-09-01</td>\n",
              "      <td>682.0</td>\n",
              "    </tr>\n",
              "    <tr>\n",
              "      <th>33</th>\n",
              "      <td>1903-10-01</td>\n",
              "      <td>475.3</td>\n",
              "    </tr>\n",
              "    <tr>\n",
              "      <th>34</th>\n",
              "      <td>1903-11-01</td>\n",
              "      <td>581.3</td>\n",
              "    </tr>\n",
              "    <tr>\n",
              "      <th>35</th>\n",
              "      <td>1903-12-01</td>\n",
              "      <td>646.9</td>\n",
              "    </tr>\n",
              "  </tbody>\n",
              "</table>\n",
              "</div>"
            ],
            "text/plain": [
              "        Month  Sales\n",
              "0  1901-01-01  266.0\n",
              "1  1901-02-01  145.9\n",
              "2  1901-03-01  183.1\n",
              "3  1901-04-01  119.3\n",
              "4  1901-05-01  180.3\n",
              "5  1901-06-01  168.5\n",
              "6  1901-07-01  231.8\n",
              "7  1901-08-01  224.5\n",
              "8  1901-09-01  192.8\n",
              "9  1901-10-01  122.9\n",
              "10 1901-11-01  336.5\n",
              "11 1901-12-01  185.9\n",
              "12 1902-01-01  194.3\n",
              "13 1902-02-01  149.5\n",
              "14 1902-03-01  210.1\n",
              "15 1902-04-01  273.3\n",
              "16 1902-05-01  191.4\n",
              "17 1902-06-01  287.0\n",
              "18 1902-07-01  226.0\n",
              "19 1902-08-01  303.6\n",
              "20 1902-09-01  289.9\n",
              "21 1902-10-01  421.6\n",
              "22 1902-11-01  264.5\n",
              "23 1902-12-01  342.3\n",
              "24 1903-01-01  339.7\n",
              "25 1903-02-01  440.4\n",
              "26 1903-03-01  315.9\n",
              "27 1903-04-01  439.3\n",
              "28 1903-05-01  401.3\n",
              "29 1903-06-01  437.4\n",
              "30 1903-07-01  575.5\n",
              "31 1903-08-01  407.6\n",
              "32 1903-09-01  682.0\n",
              "33 1903-10-01  475.3\n",
              "34 1903-11-01  581.3\n",
              "35 1903-12-01  646.9"
            ]
          },
          "metadata": {
            "tags": []
          },
          "execution_count": 70
        }
      ]
    },
    {
      "cell_type": "code",
      "metadata": {
        "colab": {
          "base_uri": "https://localhost:8080/"
        },
        "id": "Q_g8prA41LQ_",
        "outputId": "5a6f5fb3-d7e9-40f0-87cf-5f90b9bbde48"
      },
      "source": [
        "series.info()"
      ],
      "execution_count": null,
      "outputs": [
        {
          "output_type": "stream",
          "text": [
            "<class 'pandas.core.frame.DataFrame'>\n",
            "RangeIndex: 36 entries, 0 to 35\n",
            "Data columns (total 2 columns):\n",
            " #   Column  Non-Null Count  Dtype         \n",
            "---  ------  --------------  -----         \n",
            " 0   Month   36 non-null     datetime64[ns]\n",
            " 1   Sales   36 non-null     float64       \n",
            "dtypes: datetime64[ns](1), float64(1)\n",
            "memory usage: 704.0 bytes\n"
          ],
          "name": "stdout"
        }
      ]
    },
    {
      "cell_type": "markdown",
      "metadata": {
        "id": "zXG_87LF2UkJ"
      },
      "source": [
        "Check for null values"
      ]
    },
    {
      "cell_type": "code",
      "metadata": {
        "colab": {
          "base_uri": "https://localhost:8080/"
        },
        "id": "8MFCzbO62YRH",
        "outputId": "d5407467-7ae8-4fb1-eddd-98b0e6b0643e"
      },
      "source": [
        "series.isnull().sum()"
      ],
      "execution_count": null,
      "outputs": [
        {
          "output_type": "execute_result",
          "data": {
            "text/plain": [
              "Month    0\n",
              "Sales    0\n",
              "dtype: int64"
            ]
          },
          "metadata": {
            "tags": []
          },
          "execution_count": 72
        }
      ]
    },
    {
      "cell_type": "markdown",
      "metadata": {
        "id": "tHeMRXT1cqOA"
      },
      "source": [
        "Chart"
      ]
    },
    {
      "cell_type": "code",
      "metadata": {
        "colab": {
          "base_uri": "https://localhost:8080/",
          "height": 515
        },
        "id": "cVB0T-dDXlPf",
        "outputId": "b35ee47b-1519-435a-d0e6-3e46c5b72465"
      },
      "source": [
        "# visualize the relationship between the features and the response using scatterplots\r\n",
        "fig, axs = plt.subplots(1, 1, sharey=True)\r\n",
        "series.plot(kind='scatter', x='Month', y='Sales', ax=axs, figsize=(16, 8))"
      ],
      "execution_count": null,
      "outputs": [
        {
          "output_type": "execute_result",
          "data": {
            "text/plain": [
              "<matplotlib.axes._subplots.AxesSubplot at 0x7fe98a3404e0>"
            ]
          },
          "metadata": {
            "tags": []
          },
          "execution_count": 73
        },
        {
          "output_type": "display_data",
          "data": {
            "image/png": "[encoded data removed]",
            "text/plain": [
              "<Figure size 1152x576 with 1 Axes>"
            ]
          },
          "metadata": {
            "tags": [],
            "needs_background": "light"
          }
        }
      ]
    },
    {
      "cell_type": "markdown",
      "metadata": {
        "id": "gyd4oAaHdfwi"
      },
      "source": [
        "Define training and validation dates"
      ]
    },
    {
      "cell_type": "code",
      "metadata": {
        "colab": {
          "base_uri": "https://localhost:8080/"
        },
        "id": "rYQokVu1foeG",
        "outputId": "19746f27-875a-4615-f093-837c0beafe30"
      },
      "source": [
        "series.Month = series.Month.astype(str)\r\n",
        "series.index = series.Month\r\n",
        "series.info()"
      ],
      "execution_count": null,
      "outputs": [
        {
          "output_type": "stream",
          "text": [
            "<class 'pandas.core.frame.DataFrame'>\n",
            "Index: 36 entries, 1901-01-01 to 1903-12-01\n",
            "Data columns (total 2 columns):\n",
            " #   Column  Non-Null Count  Dtype  \n",
            "---  ------  --------------  -----  \n",
            " 0   Month   36 non-null     object \n",
            " 1   Sales   36 non-null     float64\n",
            "dtypes: float64(1), object(1)\n",
            "memory usage: 864.0+ bytes\n"
          ],
          "name": "stdout"
        }
      ]
    },
    {
      "cell_type": "code",
      "metadata": {
        "colab": {
          "base_uri": "https://localhost:8080/",
          "height": 1000
        },
        "id": "fNZrl-PRjIa2",
        "outputId": "a20acd8a-9090-4c01-a375-c8d9cece537d"
      },
      "source": [
        "series['Timestamp'] = pd.to_datetime(series.Month,format='%Y-%m') \r\n",
        "series.index = series.Timestamp \r\n",
        "# Converting to monthly mean \r\n",
        "monthly = series.resample('M').mean()\r\n",
        "series"
      ],
      "execution_count": null,
      "outputs": [
        {
          "output_type": "execute_result",
          "data": {
            "text/html": [
              "<div>\n",
              "<style scoped>\n",
              "    .dataframe tbody tr th:only-of-type {\n",
              "        vertical-align: middle;\n",
              "    }\n",
              "\n",
              "    .dataframe tbody tr th {\n",
              "        vertical-align: top;\n",
              "    }\n",
              "\n",
              "    .dataframe thead th {\n",
              "        text-align: right;\n",
              "    }\n",
              "</style>\n",
              "<table border=\"1\" class=\"dataframe\">\n",
              "  <thead>\n",
              "    <tr style=\"text-align: right;\">\n",
              "      <th></th>\n",
              "      <th>Month</th>\n",
              "      <th>Sales</th>\n",
              "      <th>Timestamp</th>\n",
              "    </tr>\n",
              "    <tr>\n",
              "      <th>Timestamp</th>\n",
              "      <th></th>\n",
              "      <th></th>\n",
              "      <th></th>\n",
              "    </tr>\n",
              "  </thead>\n",
              "  <tbody>\n",
              "    <tr>\n",
              "      <th>1901-01-01</th>\n",
              "      <td>1901-01-01</td>\n",
              "      <td>266.0</td>\n",
              "      <td>1901-01-01</td>\n",
              "    </tr>\n",
              "    <tr>\n",
              "      <th>1901-02-01</th>\n",
              "      <td>1901-02-01</td>\n",
              "      <td>145.9</td>\n",
              "      <td>1901-02-01</td>\n",
              "    </tr>\n",
              "    <tr>\n",
              "      <th>1901-03-01</th>\n",
              "      <td>1901-03-01</td>\n",
              "      <td>183.1</td>\n",
              "      <td>1901-03-01</td>\n",
              "    </tr>\n",
              "    <tr>\n",
              "      <th>1901-04-01</th>\n",
              "      <td>1901-04-01</td>\n",
              "      <td>119.3</td>\n",
              "      <td>1901-04-01</td>\n",
              "    </tr>\n",
              "    <tr>\n",
              "      <th>1901-05-01</th>\n",
              "      <td>1901-05-01</td>\n",
              "      <td>180.3</td>\n",
              "      <td>1901-05-01</td>\n",
              "    </tr>\n",
              "    <tr>\n",
              "      <th>1901-06-01</th>\n",
              "      <td>1901-06-01</td>\n",
              "      <td>168.5</td>\n",
              "      <td>1901-06-01</td>\n",
              "    </tr>\n",
              "    <tr>\n",
              "      <th>1901-07-01</th>\n",
              "      <td>1901-07-01</td>\n",
              "      <td>231.8</td>\n",
              "      <td>1901-07-01</td>\n",
              "    </tr>\n",
              "    <tr>\n",
              "      <th>1901-08-01</th>\n",
              "      <td>1901-08-01</td>\n",
              "      <td>224.5</td>\n",
              "      <td>1901-08-01</td>\n",
              "    </tr>\n",
              "    <tr>\n",
              "      <th>1901-09-01</th>\n",
              "      <td>1901-09-01</td>\n",
              "      <td>192.8</td>\n",
              "      <td>1901-09-01</td>\n",
              "    </tr>\n",
              "    <tr>\n",
              "      <th>1901-10-01</th>\n",
              "      <td>1901-10-01</td>\n",
              "      <td>122.9</td>\n",
              "      <td>1901-10-01</td>\n",
              "    </tr>\n",
              "    <tr>\n",
              "      <th>1901-11-01</th>\n",
              "      <td>1901-11-01</td>\n",
              "      <td>336.5</td>\n",
              "      <td>1901-11-01</td>\n",
              "    </tr>\n",
              "    <tr>\n",
              "      <th>1901-12-01</th>\n",
              "      <td>1901-12-01</td>\n",
              "      <td>185.9</td>\n",
              "      <td>1901-12-01</td>\n",
              "    </tr>\n",
              "    <tr>\n",
              "      <th>1902-01-01</th>\n",
              "      <td>1902-01-01</td>\n",
              "      <td>194.3</td>\n",
              "      <td>1902-01-01</td>\n",
              "    </tr>\n",
              "    <tr>\n",
              "      <th>1902-02-01</th>\n",
              "      <td>1902-02-01</td>\n",
              "      <td>149.5</td>\n",
              "      <td>1902-02-01</td>\n",
              "    </tr>\n",
              "    <tr>\n",
              "      <th>1902-03-01</th>\n",
              "      <td>1902-03-01</td>\n",
              "      <td>210.1</td>\n",
              "      <td>1902-03-01</td>\n",
              "    </tr>\n",
              "    <tr>\n",
              "      <th>1902-04-01</th>\n",
              "      <td>1902-04-01</td>\n",
              "      <td>273.3</td>\n",
              "      <td>1902-04-01</td>\n",
              "    </tr>\n",
              "    <tr>\n",
              "      <th>1902-05-01</th>\n",
              "      <td>1902-05-01</td>\n",
              "      <td>191.4</td>\n",
              "      <td>1902-05-01</td>\n",
              "    </tr>\n",
              "    <tr>\n",
              "      <th>1902-06-01</th>\n",
              "      <td>1902-06-01</td>\n",
              "      <td>287.0</td>\n",
              "      <td>1902-06-01</td>\n",
              "    </tr>\n",
              "    <tr>\n",
              "      <th>1902-07-01</th>\n",
              "      <td>1902-07-01</td>\n",
              "      <td>226.0</td>\n",
              "      <td>1902-07-01</td>\n",
              "    </tr>\n",
              "    <tr>\n",
              "      <th>1902-08-01</th>\n",
              "      <td>1902-08-01</td>\n",
              "      <td>303.6</td>\n",
              "      <td>1902-08-01</td>\n",
              "    </tr>\n",
              "    <tr>\n",
              "      <th>1902-09-01</th>\n",
              "      <td>1902-09-01</td>\n",
              "      <td>289.9</td>\n",
              "      <td>1902-09-01</td>\n",
              "    </tr>\n",
              "    <tr>\n",
              "      <th>1902-10-01</th>\n",
              "      <td>1902-10-01</td>\n",
              "      <td>421.6</td>\n",
              "      <td>1902-10-01</td>\n",
              "    </tr>\n",
              "    <tr>\n",
              "      <th>1902-11-01</th>\n",
              "      <td>1902-11-01</td>\n",
              "      <td>264.5</td>\n",
              "      <td>1902-11-01</td>\n",
              "    </tr>\n",
              "    <tr>\n",
              "      <th>1902-12-01</th>\n",
              "      <td>1902-12-01</td>\n",
              "      <td>342.3</td>\n",
              "      <td>1902-12-01</td>\n",
              "    </tr>\n",
              "    <tr>\n",
              "      <th>1903-01-01</th>\n",
              "      <td>1903-01-01</td>\n",
              "      <td>339.7</td>\n",
              "      <td>1903-01-01</td>\n",
              "    </tr>\n",
              "    <tr>\n",
              "      <th>1903-02-01</th>\n",
              "      <td>1903-02-01</td>\n",
              "      <td>440.4</td>\n",
              "      <td>1903-02-01</td>\n",
              "    </tr>\n",
              "    <tr>\n",
              "      <th>1903-03-01</th>\n",
              "      <td>1903-03-01</td>\n",
              "      <td>315.9</td>\n",
              "      <td>1903-03-01</td>\n",
              "    </tr>\n",
              "    <tr>\n",
              "      <th>1903-04-01</th>\n",
              "      <td>1903-04-01</td>\n",
              "      <td>439.3</td>\n",
              "      <td>1903-04-01</td>\n",
              "    </tr>\n",
              "    <tr>\n",
              "      <th>1903-05-01</th>\n",
              "      <td>1903-05-01</td>\n",
              "      <td>401.3</td>\n",
              "      <td>1903-05-01</td>\n",
              "    </tr>\n",
              "    <tr>\n",
              "      <th>1903-06-01</th>\n",
              "      <td>1903-06-01</td>\n",
              "      <td>437.4</td>\n",
              "      <td>1903-06-01</td>\n",
              "    </tr>\n",
              "    <tr>\n",
              "      <th>1903-07-01</th>\n",
              "      <td>1903-07-01</td>\n",
              "      <td>575.5</td>\n",
              "      <td>1903-07-01</td>\n",
              "    </tr>\n",
              "    <tr>\n",
              "      <th>1903-08-01</th>\n",
              "      <td>1903-08-01</td>\n",
              "      <td>407.6</td>\n",
              "      <td>1903-08-01</td>\n",
              "    </tr>\n",
              "    <tr>\n",
              "      <th>1903-09-01</th>\n",
              "      <td>1903-09-01</td>\n",
              "      <td>682.0</td>\n",
              "      <td>1903-09-01</td>\n",
              "    </tr>\n",
              "    <tr>\n",
              "      <th>1903-10-01</th>\n",
              "      <td>1903-10-01</td>\n",
              "      <td>475.3</td>\n",
              "      <td>1903-10-01</td>\n",
              "    </tr>\n",
              "    <tr>\n",
              "      <th>1903-11-01</th>\n",
              "      <td>1903-11-01</td>\n",
              "      <td>581.3</td>\n",
              "      <td>1903-11-01</td>\n",
              "    </tr>\n",
              "    <tr>\n",
              "      <th>1903-12-01</th>\n",
              "      <td>1903-12-01</td>\n",
              "      <td>646.9</td>\n",
              "      <td>1903-12-01</td>\n",
              "    </tr>\n",
              "  </tbody>\n",
              "</table>\n",
              "</div>"
            ],
            "text/plain": [
              "                 Month  Sales  Timestamp\n",
              "Timestamp                               \n",
              "1901-01-01  1901-01-01  266.0 1901-01-01\n",
              "1901-02-01  1901-02-01  145.9 1901-02-01\n",
              "1901-03-01  1901-03-01  183.1 1901-03-01\n",
              "1901-04-01  1901-04-01  119.3 1901-04-01\n",
              "1901-05-01  1901-05-01  180.3 1901-05-01\n",
              "1901-06-01  1901-06-01  168.5 1901-06-01\n",
              "1901-07-01  1901-07-01  231.8 1901-07-01\n",
              "1901-08-01  1901-08-01  224.5 1901-08-01\n",
              "1901-09-01  1901-09-01  192.8 1901-09-01\n",
              "1901-10-01  1901-10-01  122.9 1901-10-01\n",
              "1901-11-01  1901-11-01  336.5 1901-11-01\n",
              "1901-12-01  1901-12-01  185.9 1901-12-01\n",
              "1902-01-01  1902-01-01  194.3 1902-01-01\n",
              "1902-02-01  1902-02-01  149.5 1902-02-01\n",
              "1902-03-01  1902-03-01  210.1 1902-03-01\n",
              "1902-04-01  1902-04-01  273.3 1902-04-01\n",
              "1902-05-01  1902-05-01  191.4 1902-05-01\n",
              "1902-06-01  1902-06-01  287.0 1902-06-01\n",
              "1902-07-01  1902-07-01  226.0 1902-07-01\n",
              "1902-08-01  1902-08-01  303.6 1902-08-01\n",
              "1902-09-01  1902-09-01  289.9 1902-09-01\n",
              "1902-10-01  1902-10-01  421.6 1902-10-01\n",
              "1902-11-01  1902-11-01  264.5 1902-11-01\n",
              "1902-12-01  1902-12-01  342.3 1902-12-01\n",
              "1903-01-01  1903-01-01  339.7 1903-01-01\n",
              "1903-02-01  1903-02-01  440.4 1903-02-01\n",
              "1903-03-01  1903-03-01  315.9 1903-03-01\n",
              "1903-04-01  1903-04-01  439.3 1903-04-01\n",
              "1903-05-01  1903-05-01  401.3 1903-05-01\n",
              "1903-06-01  1903-06-01  437.4 1903-06-01\n",
              "1903-07-01  1903-07-01  575.5 1903-07-01\n",
              "1903-08-01  1903-08-01  407.6 1903-08-01\n",
              "1903-09-01  1903-09-01  682.0 1903-09-01\n",
              "1903-10-01  1903-10-01  475.3 1903-10-01\n",
              "1903-11-01  1903-11-01  581.3 1903-11-01\n",
              "1903-12-01  1903-12-01  646.9 1903-12-01"
            ]
          },
          "metadata": {
            "tags": []
          },
          "execution_count": 75
        }
      ]
    },
    {
      "cell_type": "code",
      "metadata": {
        "id": "Z7K1z2s3dlOz"
      },
      "source": [
        "train=series.loc['1901-01-01':'1903-07-30'] \r\n",
        "valid=series.loc['1903-08-01':'1903-12-31']"
      ],
      "execution_count": null,
      "outputs": []
    },
    {
      "cell_type": "code",
      "metadata": {
        "colab": {
          "base_uri": "https://localhost:8080/",
          "height": 986
        },
        "id": "rKeowQ2zedZi",
        "outputId": "596a4180-791c-4e6e-fade-6858271a4381"
      },
      "source": [
        "train"
      ],
      "execution_count": null,
      "outputs": [
        {
          "output_type": "execute_result",
          "data": {
            "text/html": [
              "<div>\n",
              "<style scoped>\n",
              "    .dataframe tbody tr th:only-of-type {\n",
              "        vertical-align: middle;\n",
              "    }\n",
              "\n",
              "    .dataframe tbody tr th {\n",
              "        vertical-align: top;\n",
              "    }\n",
              "\n",
              "    .dataframe thead th {\n",
              "        text-align: right;\n",
              "    }\n",
              "</style>\n",
              "<table border=\"1\" class=\"dataframe\">\n",
              "  <thead>\n",
              "    <tr style=\"text-align: right;\">\n",
              "      <th></th>\n",
              "      <th>Month</th>\n",
              "      <th>Sales</th>\n",
              "      <th>Timestamp</th>\n",
              "    </tr>\n",
              "    <tr>\n",
              "      <th>Timestamp</th>\n",
              "      <th></th>\n",
              "      <th></th>\n",
              "      <th></th>\n",
              "    </tr>\n",
              "  </thead>\n",
              "  <tbody>\n",
              "    <tr>\n",
              "      <th>1901-01-01</th>\n",
              "      <td>1901-01-01</td>\n",
              "      <td>266.0</td>\n",
              "      <td>1901-01-01</td>\n",
              "    </tr>\n",
              "    <tr>\n",
              "      <th>1901-02-01</th>\n",
              "      <td>1901-02-01</td>\n",
              "      <td>145.9</td>\n",
              "      <td>1901-02-01</td>\n",
              "    </tr>\n",
              "    <tr>\n",
              "      <th>1901-03-01</th>\n",
              "      <td>1901-03-01</td>\n",
              "      <td>183.1</td>\n",
              "      <td>1901-03-01</td>\n",
              "    </tr>\n",
              "    <tr>\n",
              "      <th>1901-04-01</th>\n",
              "      <td>1901-04-01</td>\n",
              "      <td>119.3</td>\n",
              "      <td>1901-04-01</td>\n",
              "    </tr>\n",
              "    <tr>\n",
              "      <th>1901-05-01</th>\n",
              "      <td>1901-05-01</td>\n",
              "      <td>180.3</td>\n",
              "      <td>1901-05-01</td>\n",
              "    </tr>\n",
              "    <tr>\n",
              "      <th>1901-06-01</th>\n",
              "      <td>1901-06-01</td>\n",
              "      <td>168.5</td>\n",
              "      <td>1901-06-01</td>\n",
              "    </tr>\n",
              "    <tr>\n",
              "      <th>1901-07-01</th>\n",
              "      <td>1901-07-01</td>\n",
              "      <td>231.8</td>\n",
              "      <td>1901-07-01</td>\n",
              "    </tr>\n",
              "    <tr>\n",
              "      <th>1901-08-01</th>\n",
              "      <td>1901-08-01</td>\n",
              "      <td>224.5</td>\n",
              "      <td>1901-08-01</td>\n",
              "    </tr>\n",
              "    <tr>\n",
              "      <th>1901-09-01</th>\n",
              "      <td>1901-09-01</td>\n",
              "      <td>192.8</td>\n",
              "      <td>1901-09-01</td>\n",
              "    </tr>\n",
              "    <tr>\n",
              "      <th>1901-10-01</th>\n",
              "      <td>1901-10-01</td>\n",
              "      <td>122.9</td>\n",
              "      <td>1901-10-01</td>\n",
              "    </tr>\n",
              "    <tr>\n",
              "      <th>1901-11-01</th>\n",
              "      <td>1901-11-01</td>\n",
              "      <td>336.5</td>\n",
              "      <td>1901-11-01</td>\n",
              "    </tr>\n",
              "    <tr>\n",
              "      <th>1901-12-01</th>\n",
              "      <td>1901-12-01</td>\n",
              "      <td>185.9</td>\n",
              "      <td>1901-12-01</td>\n",
              "    </tr>\n",
              "    <tr>\n",
              "      <th>1902-01-01</th>\n",
              "      <td>1902-01-01</td>\n",
              "      <td>194.3</td>\n",
              "      <td>1902-01-01</td>\n",
              "    </tr>\n",
              "    <tr>\n",
              "      <th>1902-02-01</th>\n",
              "      <td>1902-02-01</td>\n",
              "      <td>149.5</td>\n",
              "      <td>1902-02-01</td>\n",
              "    </tr>\n",
              "    <tr>\n",
              "      <th>1902-03-01</th>\n",
              "      <td>1902-03-01</td>\n",
              "      <td>210.1</td>\n",
              "      <td>1902-03-01</td>\n",
              "    </tr>\n",
              "    <tr>\n",
              "      <th>1902-04-01</th>\n",
              "      <td>1902-04-01</td>\n",
              "      <td>273.3</td>\n",
              "      <td>1902-04-01</td>\n",
              "    </tr>\n",
              "    <tr>\n",
              "      <th>1902-05-01</th>\n",
              "      <td>1902-05-01</td>\n",
              "      <td>191.4</td>\n",
              "      <td>1902-05-01</td>\n",
              "    </tr>\n",
              "    <tr>\n",
              "      <th>1902-06-01</th>\n",
              "      <td>1902-06-01</td>\n",
              "      <td>287.0</td>\n",
              "      <td>1902-06-01</td>\n",
              "    </tr>\n",
              "    <tr>\n",
              "      <th>1902-07-01</th>\n",
              "      <td>1902-07-01</td>\n",
              "      <td>226.0</td>\n",
              "      <td>1902-07-01</td>\n",
              "    </tr>\n",
              "    <tr>\n",
              "      <th>1902-08-01</th>\n",
              "      <td>1902-08-01</td>\n",
              "      <td>303.6</td>\n",
              "      <td>1902-08-01</td>\n",
              "    </tr>\n",
              "    <tr>\n",
              "      <th>1902-09-01</th>\n",
              "      <td>1902-09-01</td>\n",
              "      <td>289.9</td>\n",
              "      <td>1902-09-01</td>\n",
              "    </tr>\n",
              "    <tr>\n",
              "      <th>1902-10-01</th>\n",
              "      <td>1902-10-01</td>\n",
              "      <td>421.6</td>\n",
              "      <td>1902-10-01</td>\n",
              "    </tr>\n",
              "    <tr>\n",
              "      <th>1902-11-01</th>\n",
              "      <td>1902-11-01</td>\n",
              "      <td>264.5</td>\n",
              "      <td>1902-11-01</td>\n",
              "    </tr>\n",
              "    <tr>\n",
              "      <th>1902-12-01</th>\n",
              "      <td>1902-12-01</td>\n",
              "      <td>342.3</td>\n",
              "      <td>1902-12-01</td>\n",
              "    </tr>\n",
              "    <tr>\n",
              "      <th>1903-01-01</th>\n",
              "      <td>1903-01-01</td>\n",
              "      <td>339.7</td>\n",
              "      <td>1903-01-01</td>\n",
              "    </tr>\n",
              "    <tr>\n",
              "      <th>1903-02-01</th>\n",
              "      <td>1903-02-01</td>\n",
              "      <td>440.4</td>\n",
              "      <td>1903-02-01</td>\n",
              "    </tr>\n",
              "    <tr>\n",
              "      <th>1903-03-01</th>\n",
              "      <td>1903-03-01</td>\n",
              "      <td>315.9</td>\n",
              "      <td>1903-03-01</td>\n",
              "    </tr>\n",
              "    <tr>\n",
              "      <th>1903-04-01</th>\n",
              "      <td>1903-04-01</td>\n",
              "      <td>439.3</td>\n",
              "      <td>1903-04-01</td>\n",
              "    </tr>\n",
              "    <tr>\n",
              "      <th>1903-05-01</th>\n",
              "      <td>1903-05-01</td>\n",
              "      <td>401.3</td>\n",
              "      <td>1903-05-01</td>\n",
              "    </tr>\n",
              "    <tr>\n",
              "      <th>1903-06-01</th>\n",
              "      <td>1903-06-01</td>\n",
              "      <td>437.4</td>\n",
              "      <td>1903-06-01</td>\n",
              "    </tr>\n",
              "    <tr>\n",
              "      <th>1903-07-01</th>\n",
              "      <td>1903-07-01</td>\n",
              "      <td>575.5</td>\n",
              "      <td>1903-07-01</td>\n",
              "    </tr>\n",
              "  </tbody>\n",
              "</table>\n",
              "</div>"
            ],
            "text/plain": [
              "                 Month  Sales  Timestamp\n",
              "Timestamp                               \n",
              "1901-01-01  1901-01-01  266.0 1901-01-01\n",
              "1901-02-01  1901-02-01  145.9 1901-02-01\n",
              "1901-03-01  1901-03-01  183.1 1901-03-01\n",
              "1901-04-01  1901-04-01  119.3 1901-04-01\n",
              "1901-05-01  1901-05-01  180.3 1901-05-01\n",
              "1901-06-01  1901-06-01  168.5 1901-06-01\n",
              "1901-07-01  1901-07-01  231.8 1901-07-01\n",
              "1901-08-01  1901-08-01  224.5 1901-08-01\n",
              "1901-09-01  1901-09-01  192.8 1901-09-01\n",
              "1901-10-01  1901-10-01  122.9 1901-10-01\n",
              "1901-11-01  1901-11-01  336.5 1901-11-01\n",
              "1901-12-01  1901-12-01  185.9 1901-12-01\n",
              "1902-01-01  1902-01-01  194.3 1902-01-01\n",
              "1902-02-01  1902-02-01  149.5 1902-02-01\n",
              "1902-03-01  1902-03-01  210.1 1902-03-01\n",
              "1902-04-01  1902-04-01  273.3 1902-04-01\n",
              "1902-05-01  1902-05-01  191.4 1902-05-01\n",
              "1902-06-01  1902-06-01  287.0 1902-06-01\n",
              "1902-07-01  1902-07-01  226.0 1902-07-01\n",
              "1902-08-01  1902-08-01  303.6 1902-08-01\n",
              "1902-09-01  1902-09-01  289.9 1902-09-01\n",
              "1902-10-01  1902-10-01  421.6 1902-10-01\n",
              "1902-11-01  1902-11-01  264.5 1902-11-01\n",
              "1902-12-01  1902-12-01  342.3 1902-12-01\n",
              "1903-01-01  1903-01-01  339.7 1903-01-01\n",
              "1903-02-01  1903-02-01  440.4 1903-02-01\n",
              "1903-03-01  1903-03-01  315.9 1903-03-01\n",
              "1903-04-01  1903-04-01  439.3 1903-04-01\n",
              "1903-05-01  1903-05-01  401.3 1903-05-01\n",
              "1903-06-01  1903-06-01  437.4 1903-06-01\n",
              "1903-07-01  1903-07-01  575.5 1903-07-01"
            ]
          },
          "metadata": {
            "tags": []
          },
          "execution_count": 77
        }
      ]
    },
    {
      "cell_type": "code",
      "metadata": {
        "colab": {
          "base_uri": "https://localhost:8080/",
          "height": 223
        },
        "id": "YMIrZRC5efOV",
        "outputId": "14665c70-603d-467c-8952-28fb10dea552"
      },
      "source": [
        "valid"
      ],
      "execution_count": null,
      "outputs": [
        {
          "output_type": "execute_result",
          "data": {
            "text/html": [
              "<div>\n",
              "<style scoped>\n",
              "    .dataframe tbody tr th:only-of-type {\n",
              "        vertical-align: middle;\n",
              "    }\n",
              "\n",
              "    .dataframe tbody tr th {\n",
              "        vertical-align: top;\n",
              "    }\n",
              "\n",
              "    .dataframe thead th {\n",
              "        text-align: right;\n",
              "    }\n",
              "</style>\n",
              "<table border=\"1\" class=\"dataframe\">\n",
              "  <thead>\n",
              "    <tr style=\"text-align: right;\">\n",
              "      <th></th>\n",
              "      <th>Month</th>\n",
              "      <th>Sales</th>\n",
              "      <th>Timestamp</th>\n",
              "    </tr>\n",
              "    <tr>\n",
              "      <th>Timestamp</th>\n",
              "      <th></th>\n",
              "      <th></th>\n",
              "      <th></th>\n",
              "    </tr>\n",
              "  </thead>\n",
              "  <tbody>\n",
              "    <tr>\n",
              "      <th>1903-08-01</th>\n",
              "      <td>1903-08-01</td>\n",
              "      <td>407.6</td>\n",
              "      <td>1903-08-01</td>\n",
              "    </tr>\n",
              "    <tr>\n",
              "      <th>1903-09-01</th>\n",
              "      <td>1903-09-01</td>\n",
              "      <td>682.0</td>\n",
              "      <td>1903-09-01</td>\n",
              "    </tr>\n",
              "    <tr>\n",
              "      <th>1903-10-01</th>\n",
              "      <td>1903-10-01</td>\n",
              "      <td>475.3</td>\n",
              "      <td>1903-10-01</td>\n",
              "    </tr>\n",
              "    <tr>\n",
              "      <th>1903-11-01</th>\n",
              "      <td>1903-11-01</td>\n",
              "      <td>581.3</td>\n",
              "      <td>1903-11-01</td>\n",
              "    </tr>\n",
              "    <tr>\n",
              "      <th>1903-12-01</th>\n",
              "      <td>1903-12-01</td>\n",
              "      <td>646.9</td>\n",
              "      <td>1903-12-01</td>\n",
              "    </tr>\n",
              "  </tbody>\n",
              "</table>\n",
              "</div>"
            ],
            "text/plain": [
              "                 Month  Sales  Timestamp\n",
              "Timestamp                               \n",
              "1903-08-01  1903-08-01  407.6 1903-08-01\n",
              "1903-09-01  1903-09-01  682.0 1903-09-01\n",
              "1903-10-01  1903-10-01  475.3 1903-10-01\n",
              "1903-11-01  1903-11-01  581.3 1903-11-01\n",
              "1903-12-01  1903-12-01  646.9 1903-12-01"
            ]
          },
          "metadata": {
            "tags": []
          },
          "execution_count": 78
        }
      ]
    },
    {
      "cell_type": "markdown",
      "metadata": {
        "id": "otpgoqUpg7f2"
      },
      "source": [
        "Graphics"
      ]
    },
    {
      "cell_type": "code",
      "metadata": {
        "colab": {
          "base_uri": "https://localhost:8080/",
          "height": 533
        },
        "id": "T2nTt9Xlg9e2",
        "outputId": "e9441780-c8d8-41c4-e02a-f09acf580ecb"
      },
      "source": [
        "train['Sales'].plot(figsize=(15,8), title= 'Shampoo Sales', fontsize=14, label='train') \r\n",
        "valid['Sales'].plot(figsize=(15,8), title= 'Shampoo Sales', fontsize=14, label='valid') \r\n",
        "plt.xlabel(\"Datetime\") \r\n",
        "plt.ylabel(\"Shampoo Sales\") \r\n",
        "plt.legend(loc='best') \r\n",
        "plt.show()"
      ],
      "execution_count": null,
      "outputs": [
        {
          "output_type": "display_data",
          "data": {
            "image/png": "[encoded data removed]",
            "text/plain": [
              "<Figure size 1080x576 with 1 Axes>"
            ]
          },
          "metadata": {
            "tags": [],
            "needs_background": "light"
          }
        }
      ]
    },
    {
      "cell_type": "markdown",
      "metadata": {
        "id": "Lt2tLrgzk4OR"
      },
      "source": [
        "Naive"
      ]
    },
    {
      "cell_type": "code",
      "metadata": {
        "colab": {
          "base_uri": "https://localhost:8080/",
          "height": 499
        },
        "id": "Ot5Pu5P6k6Bf",
        "outputId": "f36e92ef-26df-4632-a6a1-f548b93fcb9a"
      },
      "source": [
        "dd= np.asarray(train['Sales'])\r\n",
        "y_hat = valid.copy() \r\n",
        "y_hat['naive'] = dd[len(dd)-1] \r\n",
        "plt.figure(figsize=(12,8)) \r\n",
        "plt.plot(train.index, train['Sales'], label='train') \r\n",
        "plt.plot(valid.index,valid['Sales'], label='valid') \r\n",
        "plt.plot(y_hat.index,y_hat['naive'], label='Naive Forecast') \r\n",
        "plt.legend(loc='best') \r\n",
        "plt.title(\"Naive Forecast\") \r\n",
        "plt.show()"
      ],
      "execution_count": null,
      "outputs": [
        {
          "output_type": "display_data",
          "data": {
            "image/png": "[encoded data removed]",
            "text/plain": [
              "<Figure size 864x576 with 1 Axes>"
            ]
          },
          "metadata": {
            "tags": [],
            "needs_background": "light"
          }
        }
      ]
    },
    {
      "cell_type": "code",
      "metadata": {
        "colab": {
          "base_uri": "https://localhost:8080/"
        },
        "id": "0rl6LKP4mCO0",
        "outputId": "763e733e-332b-44d1-ba59-dea00dd9c1ed"
      },
      "source": [
        "# calculating RMSE to check the accuracy of our model on validation data set.\r\n",
        "from sklearn.metrics import mean_squared_error \r\n",
        "from math import sqrt \r\n",
        "rms = mean_squared_error(valid['Sales'], y_hat.naive)\r\n",
        "print(rms)"
      ],
      "execution_count": null,
      "outputs": [
        {
          "output_type": "stream",
          "text": [
            "10940.859999999997\n"
          ],
          "name": "stdout"
        }
      ]
    },
    {
      "cell_type": "code",
      "metadata": {
        "colab": {
          "base_uri": "https://localhost:8080/",
          "height": 194
        },
        "id": "Dlw7Sr1ynGIQ",
        "outputId": "ff458a34-6f5a-41b3-e059-ca4de5dbfc7a"
      },
      "source": [
        "df_val=pd.DataFrame({'Actual': valid['Sales'].values, 'Predicted': y_hat.naive.values})\r\n",
        "df_val"
      ],
      "execution_count": null,
      "outputs": [
        {
          "output_type": "execute_result",
          "data": {
            "text/html": [
              "<div>\n",
              "<style scoped>\n",
              "    .dataframe tbody tr th:only-of-type {\n",
              "        vertical-align: middle;\n",
              "    }\n",
              "\n",
              "    .dataframe tbody tr th {\n",
              "        vertical-align: top;\n",
              "    }\n",
              "\n",
              "    .dataframe thead th {\n",
              "        text-align: right;\n",
              "    }\n",
              "</style>\n",
              "<table border=\"1\" class=\"dataframe\">\n",
              "  <thead>\n",
              "    <tr style=\"text-align: right;\">\n",
              "      <th></th>\n",
              "      <th>Actual</th>\n",
              "      <th>Predicted</th>\n",
              "    </tr>\n",
              "  </thead>\n",
              "  <tbody>\n",
              "    <tr>\n",
              "      <th>0</th>\n",
              "      <td>407.6</td>\n",
              "      <td>575.5</td>\n",
              "    </tr>\n",
              "    <tr>\n",
              "      <th>1</th>\n",
              "      <td>682.0</td>\n",
              "      <td>575.5</td>\n",
              "    </tr>\n",
              "    <tr>\n",
              "      <th>2</th>\n",
              "      <td>475.3</td>\n",
              "      <td>575.5</td>\n",
              "    </tr>\n",
              "    <tr>\n",
              "      <th>3</th>\n",
              "      <td>581.3</td>\n",
              "      <td>575.5</td>\n",
              "    </tr>\n",
              "    <tr>\n",
              "      <th>4</th>\n",
              "      <td>646.9</td>\n",
              "      <td>575.5</td>\n",
              "    </tr>\n",
              "  </tbody>\n",
              "</table>\n",
              "</div>"
            ],
            "text/plain": [
              "   Actual  Predicted\n",
              "0   407.6      575.5\n",
              "1   682.0      575.5\n",
              "2   475.3      575.5\n",
              "3   581.3      575.5\n",
              "4   646.9      575.5"
            ]
          },
          "metadata": {
            "tags": []
          },
          "execution_count": 82
        }
      ]
    },
    {
      "cell_type": "markdown",
      "metadata": {
        "id": "lGQhXewvnNyB"
      },
      "source": [
        "AutoRegression (AR)"
      ]
    },
    {
      "cell_type": "code",
      "metadata": {
        "colab": {
          "base_uri": "https://localhost:8080/"
        },
        "id": "wXk8oCE-nSrx",
        "outputId": "f2125008-aac0-48c5-aa26-ef30151d51ee"
      },
      "source": [
        "import statsmodels.api as sm\r\n",
        "from statsmodels.tsa.ar_model import AR\r\n",
        "\r\n",
        "# fit model\r\n",
        "model =AR(train.Sales)\r\n",
        "model_fit = model.fit()\r\n",
        "# make prediction\r\n",
        "yhat = model_fit.predict(start=valid.index[0], end=valid.index[-1], dynamic=False)\r\n",
        "print(yhat)"
      ],
      "execution_count": null,
      "outputs": [
        {
          "output_type": "stream",
          "text": [
            "1903-08-01    474.300936\n",
            "1903-09-01    545.370857\n",
            "1903-10-01    560.341058\n",
            "1903-11-01    678.006917\n",
            "1903-12-01    636.246828\n",
            "Freq: MS, dtype: float64\n"
          ],
          "name": "stdout"
        },
        {
          "output_type": "stream",
          "text": [
            "/usr/local/lib/python3.6/dist-packages/statsmodels/tsa/base/tsa_model.py:165: ValueWarning: No frequency information was provided, so inferred frequency MS will be used.\n",
            "  % freq, ValueWarning)\n"
          ],
          "name": "stderr"
        }
      ]
    },
    {
      "cell_type": "code",
      "metadata": {
        "colab": {
          "base_uri": "https://localhost:8080/"
        },
        "id": "njQzTMzwqC_3",
        "outputId": "5c1927f0-a5b7-4d9d-eca9-017fd0b9a3da"
      },
      "source": [
        "sales = valid.Sales\r\n",
        "sales.ndim"
      ],
      "execution_count": null,
      "outputs": [
        {
          "output_type": "execute_result",
          "data": {
            "text/plain": [
              "1"
            ]
          },
          "metadata": {
            "tags": []
          },
          "execution_count": 84
        }
      ]
    },
    {
      "cell_type": "code",
      "metadata": {
        "colab": {
          "base_uri": "https://localhost:8080/",
          "height": 194
        },
        "id": "xyVVq4oRnuIl",
        "outputId": "6888b679-b547-4b64-d8de-0d288e5b73e7"
      },
      "source": [
        "df_val=pd.DataFrame({'Actual': sales, 'Predicted': yhat})\r\n",
        "df_val"
      ],
      "execution_count": null,
      "outputs": [
        {
          "output_type": "execute_result",
          "data": {
            "text/html": [
              "<div>\n",
              "<style scoped>\n",
              "    .dataframe tbody tr th:only-of-type {\n",
              "        vertical-align: middle;\n",
              "    }\n",
              "\n",
              "    .dataframe tbody tr th {\n",
              "        vertical-align: top;\n",
              "    }\n",
              "\n",
              "    .dataframe thead th {\n",
              "        text-align: right;\n",
              "    }\n",
              "</style>\n",
              "<table border=\"1\" class=\"dataframe\">\n",
              "  <thead>\n",
              "    <tr style=\"text-align: right;\">\n",
              "      <th></th>\n",
              "      <th>Actual</th>\n",
              "      <th>Predicted</th>\n",
              "    </tr>\n",
              "  </thead>\n",
              "  <tbody>\n",
              "    <tr>\n",
              "      <th>1903-08-01</th>\n",
              "      <td>407.6</td>\n",
              "      <td>474.300936</td>\n",
              "    </tr>\n",
              "    <tr>\n",
              "      <th>1903-09-01</th>\n",
              "      <td>682.0</td>\n",
              "      <td>545.370857</td>\n",
              "    </tr>\n",
              "    <tr>\n",
              "      <th>1903-10-01</th>\n",
              "      <td>475.3</td>\n",
              "      <td>560.341058</td>\n",
              "    </tr>\n",
              "    <tr>\n",
              "      <th>1903-11-01</th>\n",
              "      <td>581.3</td>\n",
              "      <td>678.006917</td>\n",
              "    </tr>\n",
              "    <tr>\n",
              "      <th>1903-12-01</th>\n",
              "      <td>646.9</td>\n",
              "      <td>636.246828</td>\n",
              "    </tr>\n",
              "  </tbody>\n",
              "</table>\n",
              "</div>"
            ],
            "text/plain": [
              "            Actual   Predicted\n",
              "1903-08-01   407.6  474.300936\n",
              "1903-09-01   682.0  545.370857\n",
              "1903-10-01   475.3  560.341058\n",
              "1903-11-01   581.3  678.006917\n",
              "1903-12-01   646.9  636.246828"
            ]
          },
          "metadata": {
            "tags": []
          },
          "execution_count": 85
        }
      ]
    },
    {
      "cell_type": "code",
      "metadata": {
        "colab": {
          "base_uri": "https://localhost:8080/",
          "height": 499
        },
        "id": "HWvoPGMlrpdO",
        "outputId": "39bbcd47-c54d-4478-91cb-233eba3f4085"
      },
      "source": [
        "plt.figure(figsize=(12,8)) \r\n",
        "plt.plot(train.index, train['Sales'], label='train') \r\n",
        "plt.plot(valid.index,valid['Sales'], label='valid') \r\n",
        "plt.plot(yhat, label='AR Forecast') \r\n",
        "plt.legend(loc='best') \r\n",
        "plt.title(\"AR Forecast\") \r\n",
        "plt.show()"
      ],
      "execution_count": null,
      "outputs": [
        {
          "output_type": "display_data",
          "data": {
            "image/png": "[encoded data removed]",
            "text/plain": [
              "<Figure size 864x576 with 1 Axes>"
            ]
          },
          "metadata": {
            "tags": [],
            "needs_background": "light"
          }
        }
      ]
    },
    {
      "cell_type": "code",
      "metadata": {
        "colab": {
          "base_uri": "https://localhost:8080/"
        },
        "id": "3favkwhdsBg7",
        "outputId": "cb316e07-6c2b-436f-a937-25cc768428a6"
      },
      "source": [
        "# calculating RMSE to check the accuracy of our model on validation data set.\r\n",
        "from sklearn.metrics import mean_squared_error \r\n",
        "from math import sqrt \r\n",
        "rms = mean_squared_error(valid['Sales'], yhat)\r\n",
        "print(rms)"
      ],
      "execution_count": null,
      "outputs": [
        {
          "output_type": "stream",
          "text": [
            "7962.847364029985\n"
          ],
          "name": "stdout"
        }
      ]
    },
    {
      "cell_type": "markdown",
      "metadata": {
        "id": "4vEOZNL0sfDI"
      },
      "source": [
        "Moving Average (MA)"
      ]
    },
    {
      "cell_type": "code",
      "metadata": {
        "id": "z-oetnZnsiaP",
        "colab": {
          "base_uri": "https://localhost:8080/"
        },
        "outputId": "df6a5252-185e-48c8-ce0a-79be376fe75e"
      },
      "source": [
        "# MA example\r\n",
        "from statsmodels.tsa.arima_model import ARMA\r\n",
        "\r\n",
        "# fit model\r\n",
        "model =ARMA(train.Sales, order=(0, 1))\r\n",
        "model_fit = model.fit(disp=False)\r\n",
        "# make prediction\r\n",
        "yhat = model_fit.predict(start=valid.index[0], end=valid.index[-1], dynamic=False)\r\n",
        "print(yhat)"
      ],
      "execution_count": null,
      "outputs": [
        {
          "output_type": "stream",
          "text": [
            "1903-08-01    362.573945\n",
            "1903-09-01    276.034044\n",
            "1903-10-01    276.034044\n",
            "1903-11-01    276.034044\n",
            "1903-12-01    276.034044\n",
            "Freq: MS, dtype: float64\n"
          ],
          "name": "stdout"
        },
        {
          "output_type": "stream",
          "text": [
            "/usr/local/lib/python3.6/dist-packages/statsmodels/tsa/base/tsa_model.py:165: ValueWarning: No frequency information was provided, so inferred frequency MS will be used.\n",
            "  % freq, ValueWarning)\n"
          ],
          "name": "stderr"
        }
      ]
    },
    {
      "cell_type": "code",
      "metadata": {
        "colab": {
          "base_uri": "https://localhost:8080/",
          "height": 194
        },
        "id": "PRHrsD7UDE9F",
        "outputId": "35567c27-1b99-473e-e1a9-006b9f0fe261"
      },
      "source": [
        "df_val=pd.DataFrame({'Actual': valid['Sales'].values, 'Predicted': yhat})\r\n",
        "df_val"
      ],
      "execution_count": null,
      "outputs": [
        {
          "output_type": "execute_result",
          "data": {
            "text/html": [
              "<div>\n",
              "<style scoped>\n",
              "    .dataframe tbody tr th:only-of-type {\n",
              "        vertical-align: middle;\n",
              "    }\n",
              "\n",
              "    .dataframe tbody tr th {\n",
              "        vertical-align: top;\n",
              "    }\n",
              "\n",
              "    .dataframe thead th {\n",
              "        text-align: right;\n",
              "    }\n",
              "</style>\n",
              "<table border=\"1\" class=\"dataframe\">\n",
              "  <thead>\n",
              "    <tr style=\"text-align: right;\">\n",
              "      <th></th>\n",
              "      <th>Actual</th>\n",
              "      <th>Predicted</th>\n",
              "    </tr>\n",
              "  </thead>\n",
              "  <tbody>\n",
              "    <tr>\n",
              "      <th>1903-08-01</th>\n",
              "      <td>407.6</td>\n",
              "      <td>362.573945</td>\n",
              "    </tr>\n",
              "    <tr>\n",
              "      <th>1903-09-01</th>\n",
              "      <td>682.0</td>\n",
              "      <td>276.034044</td>\n",
              "    </tr>\n",
              "    <tr>\n",
              "      <th>1903-10-01</th>\n",
              "      <td>475.3</td>\n",
              "      <td>276.034044</td>\n",
              "    </tr>\n",
              "    <tr>\n",
              "      <th>1903-11-01</th>\n",
              "      <td>581.3</td>\n",
              "      <td>276.034044</td>\n",
              "    </tr>\n",
              "    <tr>\n",
              "      <th>1903-12-01</th>\n",
              "      <td>646.9</td>\n",
              "      <td>276.034044</td>\n",
              "    </tr>\n",
              "  </tbody>\n",
              "</table>\n",
              "</div>"
            ],
            "text/plain": [
              "            Actual   Predicted\n",
              "1903-08-01   407.6  362.573945\n",
              "1903-09-01   682.0  276.034044\n",
              "1903-10-01   475.3  276.034044\n",
              "1903-11-01   581.3  276.034044\n",
              "1903-12-01   646.9  276.034044"
            ]
          },
          "metadata": {
            "tags": []
          },
          "execution_count": 89
        }
      ]
    },
    {
      "cell_type": "code",
      "metadata": {
        "colab": {
          "base_uri": "https://localhost:8080/",
          "height": 499
        },
        "id": "KYv3AebHDTPG",
        "outputId": "b8718ffd-6d63-4471-b329-04d6f299e810"
      },
      "source": [
        "plt.figure(figsize=(12,8)) \r\n",
        "plt.plot(train.index, train['Sales'], label='train') \r\n",
        "plt.plot(valid.index,valid['Sales'], label='Valid') \r\n",
        "plt.plot(yhat, label='MA Forecast') \r\n",
        "plt.legend(loc='best') \r\n",
        "plt.title(\"MA Forecast\") \r\n",
        "plt.show()"
      ],
      "execution_count": null,
      "outputs": [
        {
          "output_type": "display_data",
          "data": {
            "image/png": "[encoded data removed]",
            "text/plain": [
              "<Figure size 864x576 with 1 Axes>"
            ]
          },
          "metadata": {
            "tags": [],
            "needs_background": "light"
          }
        }
      ]
    },
    {
      "cell_type": "code",
      "metadata": {
        "colab": {
          "base_uri": "https://localhost:8080/"
        },
        "id": "enak0JW5DiE6",
        "outputId": "fd5df96d-290a-495e-ddb5-051eba6bcc7b"
      },
      "source": [
        "# calculating RMSE to check the accuracy of our model on validation data set.\r\n",
        "from sklearn.metrics import mean_squared_error \r\n",
        "from math import sqrt \r\n",
        "rms = (mean_squared_error(valid['Sales'], yhat))\r\n",
        "print(rms)"
      ],
      "execution_count": null,
      "outputs": [
        {
          "output_type": "stream",
          "text": [
            "87454.2971232098\n"
          ],
          "name": "stdout"
        }
      ]
    },
    {
      "cell_type": "markdown",
      "metadata": {
        "id": "tdrZq-9QEALl"
      },
      "source": [
        "Simple Exponential Smoothing (SES)"
      ]
    },
    {
      "cell_type": "code",
      "metadata": {
        "colab": {
          "base_uri": "https://localhost:8080/"
        },
        "id": "UoXfO0DFFYzN",
        "outputId": "068d9def-7465-4969-dad1-9ccf54189d95"
      },
      "source": [
        "from statsmodels.tsa.holtwinters import SimpleExpSmoothing\r\n",
        "\r\n",
        "# fit model\r\n",
        "model =SimpleExpSmoothing(train.Sales)\r\n",
        "model_fit = model.fit(smoothing_level=0.6,optimized=False)\r\n",
        "# make prediction\r\n",
        "yhat = model_fit.predict(start=valid.index[0], end=valid.index[-1])\r\n",
        "print(yhat)"
      ],
      "execution_count": null,
      "outputs": [
        {
          "output_type": "stream",
          "text": [
            "1903-08-01    514.599498\n",
            "1903-09-01    514.599498\n",
            "1903-10-01    514.599498\n",
            "1903-11-01    514.599498\n",
            "1903-12-01    514.599498\n",
            "Freq: MS, dtype: float64\n"
          ],
          "name": "stdout"
        },
        {
          "output_type": "stream",
          "text": [
            "/usr/local/lib/python3.6/dist-packages/statsmodels/tsa/base/tsa_model.py:165: ValueWarning: No frequency information was provided, so inferred frequency MS will be used.\n",
            "  % freq, ValueWarning)\n"
          ],
          "name": "stderr"
        }
      ]
    },
    {
      "cell_type": "code",
      "metadata": {
        "colab": {
          "base_uri": "https://localhost:8080/",
          "height": 194
        },
        "id": "B6srzQ08FqTF",
        "outputId": "17058837-4a55-418a-fc71-c331b0c6ebaf"
      },
      "source": [
        "df_val=pd.DataFrame({'Actual': valid['Sales'].values, 'Predicted': yhat})\r\n",
        "df_val"
      ],
      "execution_count": null,
      "outputs": [
        {
          "output_type": "execute_result",
          "data": {
            "text/html": [
              "<div>\n",
              "<style scoped>\n",
              "    .dataframe tbody tr th:only-of-type {\n",
              "        vertical-align: middle;\n",
              "    }\n",
              "\n",
              "    .dataframe tbody tr th {\n",
              "        vertical-align: top;\n",
              "    }\n",
              "\n",
              "    .dataframe thead th {\n",
              "        text-align: right;\n",
              "    }\n",
              "</style>\n",
              "<table border=\"1\" class=\"dataframe\">\n",
              "  <thead>\n",
              "    <tr style=\"text-align: right;\">\n",
              "      <th></th>\n",
              "      <th>Actual</th>\n",
              "      <th>Predicted</th>\n",
              "    </tr>\n",
              "  </thead>\n",
              "  <tbody>\n",
              "    <tr>\n",
              "      <th>1903-08-01</th>\n",
              "      <td>407.6</td>\n",
              "      <td>514.599498</td>\n",
              "    </tr>\n",
              "    <tr>\n",
              "      <th>1903-09-01</th>\n",
              "      <td>682.0</td>\n",
              "      <td>514.599498</td>\n",
              "    </tr>\n",
              "    <tr>\n",
              "      <th>1903-10-01</th>\n",
              "      <td>475.3</td>\n",
              "      <td>514.599498</td>\n",
              "    </tr>\n",
              "    <tr>\n",
              "      <th>1903-11-01</th>\n",
              "      <td>581.3</td>\n",
              "      <td>514.599498</td>\n",
              "    </tr>\n",
              "    <tr>\n",
              "      <th>1903-12-01</th>\n",
              "      <td>646.9</td>\n",
              "      <td>514.599498</td>\n",
              "    </tr>\n",
              "  </tbody>\n",
              "</table>\n",
              "</div>"
            ],
            "text/plain": [
              "            Actual   Predicted\n",
              "1903-08-01   407.6  514.599498\n",
              "1903-09-01   682.0  514.599498\n",
              "1903-10-01   475.3  514.599498\n",
              "1903-11-01   581.3  514.599498\n",
              "1903-12-01   646.9  514.599498"
            ]
          },
          "metadata": {
            "tags": []
          },
          "execution_count": 93
        }
      ]
    },
    {
      "cell_type": "code",
      "metadata": {
        "colab": {
          "base_uri": "https://localhost:8080/",
          "height": 499
        },
        "id": "0MTTeftgF08o",
        "outputId": "fcecc529-3703-4cf5-a940-0c5314fd61f8"
      },
      "source": [
        "plt.figure(figsize=(12,8)) \r\n",
        "plt.plot(train.index, train['Sales'], label='train') \r\n",
        "plt.plot(valid.index,valid['Sales'], label='Valid') \r\n",
        "plt.plot(yhat, label='SES Forecast') \r\n",
        "plt.legend(loc='best') \r\n",
        "plt.title(\"SES Forecast\") \r\n",
        "plt.show()"
      ],
      "execution_count": null,
      "outputs": [
        {
          "output_type": "display_data",
          "data": {
            "image/png": "[encoded data removed]",
            "text/plain": [
              "<Figure size 864x576 with 1 Axes>"
            ]
          },
          "metadata": {
            "tags": [],
            "needs_background": "light"
          }
        }
      ]
    },
    {
      "cell_type": "code",
      "metadata": {
        "colab": {
          "base_uri": "https://localhost:8080/"
        },
        "id": "B8dNCC-8GH0l",
        "outputId": "43a1e3fb-7696-48c1-bc47-e82ba75ab3af"
      },
      "source": [
        "# calculating RMSE to check the accuracy of our model on validation data set.\r\n",
        "from sklearn.metrics import mean_squared_error \r\n",
        "from math import sqrt \r\n",
        "rms = mean_squared_error(valid['Sales'], yhat)\r\n",
        "print(rms)"
      ],
      "execution_count": null,
      "outputs": [
        {
          "output_type": "stream",
          "text": [
            "12593.730174805378\n"
          ],
          "name": "stdout"
        }
      ]
    },
    {
      "cell_type": "markdown",
      "metadata": {
        "id": "YitAjjUmGZ_z"
      },
      "source": [
        "Holt Winters Exponential Smoothing"
      ]
    },
    {
      "cell_type": "code",
      "metadata": {
        "colab": {
          "base_uri": "https://localhost:8080/"
        },
        "id": "yZDnh4ZJGeLf",
        "outputId": "cb0fae3a-9d1d-48bc-af50-72ee2385af7f"
      },
      "source": [
        "from statsmodels.tsa.holtwinters import ExponentialSmoothing\r\n",
        "\r\n",
        "# fit model\r\n",
        "model = ExponentialSmoothing(train.Sales)\r\n",
        "model_fit = model.fit(smoothing_level = 0.3,smoothing_slope = 0.1)\r\n",
        "# make prediction\r\n",
        "yhat = model_fit.predict(start=valid.index[0], end=valid.index[-1])\r\n",
        "print(yhat)"
      ],
      "execution_count": null,
      "outputs": [
        {
          "output_type": "stream",
          "text": [
            "1903-08-01    451.243452\n",
            "1903-09-01    451.243452\n",
            "1903-10-01    451.243452\n",
            "1903-11-01    451.243452\n",
            "1903-12-01    451.243452\n",
            "Freq: MS, dtype: float64\n"
          ],
          "name": "stdout"
        },
        {
          "output_type": "stream",
          "text": [
            "/usr/local/lib/python3.6/dist-packages/statsmodels/tsa/base/tsa_model.py:165: ValueWarning: No frequency information was provided, so inferred frequency MS will be used.\n",
            "  % freq, ValueWarning)\n"
          ],
          "name": "stderr"
        }
      ]
    },
    {
      "cell_type": "code",
      "metadata": {
        "colab": {
          "base_uri": "https://localhost:8080/",
          "height": 499
        },
        "id": "0Lnl3_M1Guu_",
        "outputId": "dbc7e732-6113-482c-a8d7-1120f07d20dd"
      },
      "source": [
        "plt.figure(figsize=(12,8)) \r\n",
        "plt.plot(train.index, train['Sales'], label='train') \r\n",
        "plt.plot(valid.index,valid['Sales'], label='valid') \r\n",
        "plt.plot(yhat, label='HWES Forecast') \r\n",
        "plt.legend(loc='best') \r\n",
        "plt.title(\"HWES Forecast\") \r\n",
        "plt.show()"
      ],
      "execution_count": null,
      "outputs": [
        {
          "output_type": "display_data",
          "data": {
            "image/png": "[encoded data removed]",
            "text/plain": [
              "<Figure size 864x576 with 1 Axes>"
            ]
          },
          "metadata": {
            "tags": [],
            "needs_background": "light"
          }
        }
      ]
    },
    {
      "cell_type": "code",
      "metadata": {
        "colab": {
          "base_uri": "https://localhost:8080/"
        },
        "id": "cCNu6WVBHAnU",
        "outputId": "6a3c92d2-b216-4577-bbc1-e15c3d6fe666"
      },
      "source": [
        "# calculating RMSE to check the accuracy of our model on validation data set.\r\n",
        "from sklearn.metrics import mean_squared_error \r\n",
        "from math import sqrt \r\n",
        "rms = mean_squared_error(valid['Sales'], yhat)\r\n",
        "print(rms)"
      ],
      "execution_count": null,
      "outputs": [
        {
          "output_type": "stream",
          "text": [
            "22185.648611470482\n"
          ],
          "name": "stdout"
        }
      ]
    }
  ]
}