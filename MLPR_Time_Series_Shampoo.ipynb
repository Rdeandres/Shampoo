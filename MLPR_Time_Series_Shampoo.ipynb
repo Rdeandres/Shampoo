{
  "nbformat": 4,
  "nbformat_minor": 0,
  "metadata": {
    "colab": {
      "name": "MLPR- Time Series - Shampoo.ipynb",
      "provenance": []
    },
    "kernelspec": {
      "name": "python3",
      "display_name": "Python 3"
    }
  },
  "cells": [
    {
      "cell_type": "markdown",
      "metadata": {
        "id": "w2uRW91qa4B_"
      },
      "source": [
        "Import libraries"
      ]
    },
    {
      "cell_type": "code",
      "metadata": {
        "id": "JuLFcW8sftqH"
      },
      "source": [
        "import pandas as pd\n",
        "from pandas import read_csv\n",
        "from pandas import datetime\n",
        "from pandas import DataFrame\n",
        "import matplotlib.pyplot as plt"
      ],
      "execution_count": 242,
      "outputs": []
    },
    {
      "cell_type": "markdown",
      "metadata": {
        "id": "zPpxiwxua8XJ"
      },
      "source": [
        "Load files"
      ]
    },
    {
      "cell_type": "code",
      "metadata": {
        "id": "742X-seCgFy8",
        "colab": {
          "base_uri": "https://localhost:8080/"
        },
        "outputId": "06b826f6-5174-4202-ca77-41a5db4a72cb"
      },
      "source": [
        "def parser(x):\n",
        "\treturn datetime.strptime('190'+x, '%Y-%m')\n",
        "series = read_csv('https://raw.githubusercontent.com/jbrownlee/Datasets/master/shampoo.csv', header=0, parse_dates=[0],  squeeze=True, date_parser=parser) #index_col=0,"
      ],
      "execution_count": 243,
      "outputs": [
        {
          "output_type": "stream",
          "text": [
            "/usr/local/lib/python3.6/dist-packages/ipykernel_launcher.py:2: FutureWarning: The pandas.datetime class is deprecated and will be removed from pandas in a future version. Import from datetime instead.\n",
            "  \n"
          ],
          "name": "stderr"
        }
      ]
    },
    {
      "cell_type": "code",
      "metadata": {
        "id": "R3aFj-Kt5Bm1",
        "colab": {
          "base_uri": "https://localhost:8080/",
          "height": 1000
        },
        "outputId": "af8ec5b1-f3da-4cf9-d022-ee6b1e72603f"
      },
      "source": [
        "series"
      ],
      "execution_count": 244,
      "outputs": [
        {
          "output_type": "execute_result",
          "data": {
            "text/html": [
              "<div>\n",
              "<style scoped>\n",
              "    .dataframe tbody tr th:only-of-type {\n",
              "        vertical-align: middle;\n",
              "    }\n",
              "\n",
              "    .dataframe tbody tr th {\n",
              "        vertical-align: top;\n",
              "    }\n",
              "\n",
              "    .dataframe thead th {\n",
              "        text-align: right;\n",
              "    }\n",
              "</style>\n",
              "<table border=\"1\" class=\"dataframe\">\n",
              "  <thead>\n",
              "    <tr style=\"text-align: right;\">\n",
              "      <th></th>\n",
              "      <th>Month</th>\n",
              "      <th>Sales</th>\n",
              "    </tr>\n",
              "  </thead>\n",
              "  <tbody>\n",
              "    <tr>\n",
              "      <th>0</th>\n",
              "      <td>1901-01-01</td>\n",
              "      <td>266.0</td>\n",
              "    </tr>\n",
              "    <tr>\n",
              "      <th>1</th>\n",
              "      <td>1901-02-01</td>\n",
              "      <td>145.9</td>\n",
              "    </tr>\n",
              "    <tr>\n",
              "      <th>2</th>\n",
              "      <td>1901-03-01</td>\n",
              "      <td>183.1</td>\n",
              "    </tr>\n",
              "    <tr>\n",
              "      <th>3</th>\n",
              "      <td>1901-04-01</td>\n",
              "      <td>119.3</td>\n",
              "    </tr>\n",
              "    <tr>\n",
              "      <th>4</th>\n",
              "      <td>1901-05-01</td>\n",
              "      <td>180.3</td>\n",
              "    </tr>\n",
              "    <tr>\n",
              "      <th>5</th>\n",
              "      <td>1901-06-01</td>\n",
              "      <td>168.5</td>\n",
              "    </tr>\n",
              "    <tr>\n",
              "      <th>6</th>\n",
              "      <td>1901-07-01</td>\n",
              "      <td>231.8</td>\n",
              "    </tr>\n",
              "    <tr>\n",
              "      <th>7</th>\n",
              "      <td>1901-08-01</td>\n",
              "      <td>224.5</td>\n",
              "    </tr>\n",
              "    <tr>\n",
              "      <th>8</th>\n",
              "      <td>1901-09-01</td>\n",
              "      <td>192.8</td>\n",
              "    </tr>\n",
              "    <tr>\n",
              "      <th>9</th>\n",
              "      <td>1901-10-01</td>\n",
              "      <td>122.9</td>\n",
              "    </tr>\n",
              "    <tr>\n",
              "      <th>10</th>\n",
              "      <td>1901-11-01</td>\n",
              "      <td>336.5</td>\n",
              "    </tr>\n",
              "    <tr>\n",
              "      <th>11</th>\n",
              "      <td>1901-12-01</td>\n",
              "      <td>185.9</td>\n",
              "    </tr>\n",
              "    <tr>\n",
              "      <th>12</th>\n",
              "      <td>1902-01-01</td>\n",
              "      <td>194.3</td>\n",
              "    </tr>\n",
              "    <tr>\n",
              "      <th>13</th>\n",
              "      <td>1902-02-01</td>\n",
              "      <td>149.5</td>\n",
              "    </tr>\n",
              "    <tr>\n",
              "      <th>14</th>\n",
              "      <td>1902-03-01</td>\n",
              "      <td>210.1</td>\n",
              "    </tr>\n",
              "    <tr>\n",
              "      <th>15</th>\n",
              "      <td>1902-04-01</td>\n",
              "      <td>273.3</td>\n",
              "    </tr>\n",
              "    <tr>\n",
              "      <th>16</th>\n",
              "      <td>1902-05-01</td>\n",
              "      <td>191.4</td>\n",
              "    </tr>\n",
              "    <tr>\n",
              "      <th>17</th>\n",
              "      <td>1902-06-01</td>\n",
              "      <td>287.0</td>\n",
              "    </tr>\n",
              "    <tr>\n",
              "      <th>18</th>\n",
              "      <td>1902-07-01</td>\n",
              "      <td>226.0</td>\n",
              "    </tr>\n",
              "    <tr>\n",
              "      <th>19</th>\n",
              "      <td>1902-08-01</td>\n",
              "      <td>303.6</td>\n",
              "    </tr>\n",
              "    <tr>\n",
              "      <th>20</th>\n",
              "      <td>1902-09-01</td>\n",
              "      <td>289.9</td>\n",
              "    </tr>\n",
              "    <tr>\n",
              "      <th>21</th>\n",
              "      <td>1902-10-01</td>\n",
              "      <td>421.6</td>\n",
              "    </tr>\n",
              "    <tr>\n",
              "      <th>22</th>\n",
              "      <td>1902-11-01</td>\n",
              "      <td>264.5</td>\n",
              "    </tr>\n",
              "    <tr>\n",
              "      <th>23</th>\n",
              "      <td>1902-12-01</td>\n",
              "      <td>342.3</td>\n",
              "    </tr>\n",
              "    <tr>\n",
              "      <th>24</th>\n",
              "      <td>1903-01-01</td>\n",
              "      <td>339.7</td>\n",
              "    </tr>\n",
              "    <tr>\n",
              "      <th>25</th>\n",
              "      <td>1903-02-01</td>\n",
              "      <td>440.4</td>\n",
              "    </tr>\n",
              "    <tr>\n",
              "      <th>26</th>\n",
              "      <td>1903-03-01</td>\n",
              "      <td>315.9</td>\n",
              "    </tr>\n",
              "    <tr>\n",
              "      <th>27</th>\n",
              "      <td>1903-04-01</td>\n",
              "      <td>439.3</td>\n",
              "    </tr>\n",
              "    <tr>\n",
              "      <th>28</th>\n",
              "      <td>1903-05-01</td>\n",
              "      <td>401.3</td>\n",
              "    </tr>\n",
              "    <tr>\n",
              "      <th>29</th>\n",
              "      <td>1903-06-01</td>\n",
              "      <td>437.4</td>\n",
              "    </tr>\n",
              "    <tr>\n",
              "      <th>30</th>\n",
              "      <td>1903-07-01</td>\n",
              "      <td>575.5</td>\n",
              "    </tr>\n",
              "    <tr>\n",
              "      <th>31</th>\n",
              "      <td>1903-08-01</td>\n",
              "      <td>407.6</td>\n",
              "    </tr>\n",
              "    <tr>\n",
              "      <th>32</th>\n",
              "      <td>1903-09-01</td>\n",
              "      <td>682.0</td>\n",
              "    </tr>\n",
              "    <tr>\n",
              "      <th>33</th>\n",
              "      <td>1903-10-01</td>\n",
              "      <td>475.3</td>\n",
              "    </tr>\n",
              "    <tr>\n",
              "      <th>34</th>\n",
              "      <td>1903-11-01</td>\n",
              "      <td>581.3</td>\n",
              "    </tr>\n",
              "    <tr>\n",
              "      <th>35</th>\n",
              "      <td>1903-12-01</td>\n",
              "      <td>646.9</td>\n",
              "    </tr>\n",
              "  </tbody>\n",
              "</table>\n",
              "</div>"
            ],
            "text/plain": [
              "        Month  Sales\n",
              "0  1901-01-01  266.0\n",
              "1  1901-02-01  145.9\n",
              "2  1901-03-01  183.1\n",
              "3  1901-04-01  119.3\n",
              "4  1901-05-01  180.3\n",
              "5  1901-06-01  168.5\n",
              "6  1901-07-01  231.8\n",
              "7  1901-08-01  224.5\n",
              "8  1901-09-01  192.8\n",
              "9  1901-10-01  122.9\n",
              "10 1901-11-01  336.5\n",
              "11 1901-12-01  185.9\n",
              "12 1902-01-01  194.3\n",
              "13 1902-02-01  149.5\n",
              "14 1902-03-01  210.1\n",
              "15 1902-04-01  273.3\n",
              "16 1902-05-01  191.4\n",
              "17 1902-06-01  287.0\n",
              "18 1902-07-01  226.0\n",
              "19 1902-08-01  303.6\n",
              "20 1902-09-01  289.9\n",
              "21 1902-10-01  421.6\n",
              "22 1902-11-01  264.5\n",
              "23 1902-12-01  342.3\n",
              "24 1903-01-01  339.7\n",
              "25 1903-02-01  440.4\n",
              "26 1903-03-01  315.9\n",
              "27 1903-04-01  439.3\n",
              "28 1903-05-01  401.3\n",
              "29 1903-06-01  437.4\n",
              "30 1903-07-01  575.5\n",
              "31 1903-08-01  407.6\n",
              "32 1903-09-01  682.0\n",
              "33 1903-10-01  475.3\n",
              "34 1903-11-01  581.3\n",
              "35 1903-12-01  646.9"
            ]
          },
          "metadata": {
            "tags": []
          },
          "execution_count": 244
        }
      ]
    },
    {
      "cell_type": "code",
      "metadata": {
        "colab": {
          "base_uri": "https://localhost:8080/"
        },
        "id": "Q_g8prA41LQ_",
        "outputId": "306e3785-e0a2-42d8-f6c9-125c64b8bd0d"
      },
      "source": [
        "series.info()"
      ],
      "execution_count": 245,
      "outputs": [
        {
          "output_type": "stream",
          "text": [
            "<class 'pandas.core.frame.DataFrame'>\n",
            "RangeIndex: 36 entries, 0 to 35\n",
            "Data columns (total 2 columns):\n",
            " #   Column  Non-Null Count  Dtype         \n",
            "---  ------  --------------  -----         \n",
            " 0   Month   36 non-null     datetime64[ns]\n",
            " 1   Sales   36 non-null     float64       \n",
            "dtypes: datetime64[ns](1), float64(1)\n",
            "memory usage: 704.0 bytes\n"
          ],
          "name": "stdout"
        }
      ]
    },
    {
      "cell_type": "markdown",
      "metadata": {
        "id": "zXG_87LF2UkJ"
      },
      "source": [
        "Check for null values"
      ]
    },
    {
      "cell_type": "code",
      "metadata": {
        "colab": {
          "base_uri": "https://localhost:8080/"
        },
        "id": "8MFCzbO62YRH",
        "outputId": "725defce-2428-4dc5-9f08-76223a2ca39c"
      },
      "source": [
        "series.isnull().sum()"
      ],
      "execution_count": 246,
      "outputs": [
        {
          "output_type": "execute_result",
          "data": {
            "text/plain": [
              "Month    0\n",
              "Sales    0\n",
              "dtype: int64"
            ]
          },
          "metadata": {
            "tags": []
          },
          "execution_count": 246
        }
      ]
    },
    {
      "cell_type": "markdown",
      "metadata": {
        "id": "C3eQUbU11eg6"
      },
      "source": [
        "Ordinal encode date"
      ]
    },
    {
      "cell_type": "code",
      "metadata": {
        "colab": {
          "base_uri": "https://localhost:8080/",
          "height": 1000
        },
        "id": "SCFFDZVX1hys",
        "outputId": "ab145de4-3cb9-4040-8549-360fb6da5f03"
      },
      "source": [
        "series['date_ordinal'] = series['Month'].apply(lambda x: x.toordinal())\r\n",
        "series"
      ],
      "execution_count": 247,
      "outputs": [
        {
          "output_type": "execute_result",
          "data": {
            "text/html": [
              "<div>\n",
              "<style scoped>\n",
              "    .dataframe tbody tr th:only-of-type {\n",
              "        vertical-align: middle;\n",
              "    }\n",
              "\n",
              "    .dataframe tbody tr th {\n",
              "        vertical-align: top;\n",
              "    }\n",
              "\n",
              "    .dataframe thead th {\n",
              "        text-align: right;\n",
              "    }\n",
              "</style>\n",
              "<table border=\"1\" class=\"dataframe\">\n",
              "  <thead>\n",
              "    <tr style=\"text-align: right;\">\n",
              "      <th></th>\n",
              "      <th>Month</th>\n",
              "      <th>Sales</th>\n",
              "      <th>date_ordinal</th>\n",
              "    </tr>\n",
              "  </thead>\n",
              "  <tbody>\n",
              "    <tr>\n",
              "      <th>0</th>\n",
              "      <td>1901-01-01</td>\n",
              "      <td>266.0</td>\n",
              "      <td>693961</td>\n",
              "    </tr>\n",
              "    <tr>\n",
              "      <th>1</th>\n",
              "      <td>1901-02-01</td>\n",
              "      <td>145.9</td>\n",
              "      <td>693992</td>\n",
              "    </tr>\n",
              "    <tr>\n",
              "      <th>2</th>\n",
              "      <td>1901-03-01</td>\n",
              "      <td>183.1</td>\n",
              "      <td>694020</td>\n",
              "    </tr>\n",
              "    <tr>\n",
              "      <th>3</th>\n",
              "      <td>1901-04-01</td>\n",
              "      <td>119.3</td>\n",
              "      <td>694051</td>\n",
              "    </tr>\n",
              "    <tr>\n",
              "      <th>4</th>\n",
              "      <td>1901-05-01</td>\n",
              "      <td>180.3</td>\n",
              "      <td>694081</td>\n",
              "    </tr>\n",
              "    <tr>\n",
              "      <th>5</th>\n",
              "      <td>1901-06-01</td>\n",
              "      <td>168.5</td>\n",
              "      <td>694112</td>\n",
              "    </tr>\n",
              "    <tr>\n",
              "      <th>6</th>\n",
              "      <td>1901-07-01</td>\n",
              "      <td>231.8</td>\n",
              "      <td>694142</td>\n",
              "    </tr>\n",
              "    <tr>\n",
              "      <th>7</th>\n",
              "      <td>1901-08-01</td>\n",
              "      <td>224.5</td>\n",
              "      <td>694173</td>\n",
              "    </tr>\n",
              "    <tr>\n",
              "      <th>8</th>\n",
              "      <td>1901-09-01</td>\n",
              "      <td>192.8</td>\n",
              "      <td>694204</td>\n",
              "    </tr>\n",
              "    <tr>\n",
              "      <th>9</th>\n",
              "      <td>1901-10-01</td>\n",
              "      <td>122.9</td>\n",
              "      <td>694234</td>\n",
              "    </tr>\n",
              "    <tr>\n",
              "      <th>10</th>\n",
              "      <td>1901-11-01</td>\n",
              "      <td>336.5</td>\n",
              "      <td>694265</td>\n",
              "    </tr>\n",
              "    <tr>\n",
              "      <th>11</th>\n",
              "      <td>1901-12-01</td>\n",
              "      <td>185.9</td>\n",
              "      <td>694295</td>\n",
              "    </tr>\n",
              "    <tr>\n",
              "      <th>12</th>\n",
              "      <td>1902-01-01</td>\n",
              "      <td>194.3</td>\n",
              "      <td>694326</td>\n",
              "    </tr>\n",
              "    <tr>\n",
              "      <th>13</th>\n",
              "      <td>1902-02-01</td>\n",
              "      <td>149.5</td>\n",
              "      <td>694357</td>\n",
              "    </tr>\n",
              "    <tr>\n",
              "      <th>14</th>\n",
              "      <td>1902-03-01</td>\n",
              "      <td>210.1</td>\n",
              "      <td>694385</td>\n",
              "    </tr>\n",
              "    <tr>\n",
              "      <th>15</th>\n",
              "      <td>1902-04-01</td>\n",
              "      <td>273.3</td>\n",
              "      <td>694416</td>\n",
              "    </tr>\n",
              "    <tr>\n",
              "      <th>16</th>\n",
              "      <td>1902-05-01</td>\n",
              "      <td>191.4</td>\n",
              "      <td>694446</td>\n",
              "    </tr>\n",
              "    <tr>\n",
              "      <th>17</th>\n",
              "      <td>1902-06-01</td>\n",
              "      <td>287.0</td>\n",
              "      <td>694477</td>\n",
              "    </tr>\n",
              "    <tr>\n",
              "      <th>18</th>\n",
              "      <td>1902-07-01</td>\n",
              "      <td>226.0</td>\n",
              "      <td>694507</td>\n",
              "    </tr>\n",
              "    <tr>\n",
              "      <th>19</th>\n",
              "      <td>1902-08-01</td>\n",
              "      <td>303.6</td>\n",
              "      <td>694538</td>\n",
              "    </tr>\n",
              "    <tr>\n",
              "      <th>20</th>\n",
              "      <td>1902-09-01</td>\n",
              "      <td>289.9</td>\n",
              "      <td>694569</td>\n",
              "    </tr>\n",
              "    <tr>\n",
              "      <th>21</th>\n",
              "      <td>1902-10-01</td>\n",
              "      <td>421.6</td>\n",
              "      <td>694599</td>\n",
              "    </tr>\n",
              "    <tr>\n",
              "      <th>22</th>\n",
              "      <td>1902-11-01</td>\n",
              "      <td>264.5</td>\n",
              "      <td>694630</td>\n",
              "    </tr>\n",
              "    <tr>\n",
              "      <th>23</th>\n",
              "      <td>1902-12-01</td>\n",
              "      <td>342.3</td>\n",
              "      <td>694660</td>\n",
              "    </tr>\n",
              "    <tr>\n",
              "      <th>24</th>\n",
              "      <td>1903-01-01</td>\n",
              "      <td>339.7</td>\n",
              "      <td>694691</td>\n",
              "    </tr>\n",
              "    <tr>\n",
              "      <th>25</th>\n",
              "      <td>1903-02-01</td>\n",
              "      <td>440.4</td>\n",
              "      <td>694722</td>\n",
              "    </tr>\n",
              "    <tr>\n",
              "      <th>26</th>\n",
              "      <td>1903-03-01</td>\n",
              "      <td>315.9</td>\n",
              "      <td>694750</td>\n",
              "    </tr>\n",
              "    <tr>\n",
              "      <th>27</th>\n",
              "      <td>1903-04-01</td>\n",
              "      <td>439.3</td>\n",
              "      <td>694781</td>\n",
              "    </tr>\n",
              "    <tr>\n",
              "      <th>28</th>\n",
              "      <td>1903-05-01</td>\n",
              "      <td>401.3</td>\n",
              "      <td>694811</td>\n",
              "    </tr>\n",
              "    <tr>\n",
              "      <th>29</th>\n",
              "      <td>1903-06-01</td>\n",
              "      <td>437.4</td>\n",
              "      <td>694842</td>\n",
              "    </tr>\n",
              "    <tr>\n",
              "      <th>30</th>\n",
              "      <td>1903-07-01</td>\n",
              "      <td>575.5</td>\n",
              "      <td>694872</td>\n",
              "    </tr>\n",
              "    <tr>\n",
              "      <th>31</th>\n",
              "      <td>1903-08-01</td>\n",
              "      <td>407.6</td>\n",
              "      <td>694903</td>\n",
              "    </tr>\n",
              "    <tr>\n",
              "      <th>32</th>\n",
              "      <td>1903-09-01</td>\n",
              "      <td>682.0</td>\n",
              "      <td>694934</td>\n",
              "    </tr>\n",
              "    <tr>\n",
              "      <th>33</th>\n",
              "      <td>1903-10-01</td>\n",
              "      <td>475.3</td>\n",
              "      <td>694964</td>\n",
              "    </tr>\n",
              "    <tr>\n",
              "      <th>34</th>\n",
              "      <td>1903-11-01</td>\n",
              "      <td>581.3</td>\n",
              "      <td>694995</td>\n",
              "    </tr>\n",
              "    <tr>\n",
              "      <th>35</th>\n",
              "      <td>1903-12-01</td>\n",
              "      <td>646.9</td>\n",
              "      <td>695025</td>\n",
              "    </tr>\n",
              "  </tbody>\n",
              "</table>\n",
              "</div>"
            ],
            "text/plain": [
              "        Month  Sales  date_ordinal\n",
              "0  1901-01-01  266.0        693961\n",
              "1  1901-02-01  145.9        693992\n",
              "2  1901-03-01  183.1        694020\n",
              "3  1901-04-01  119.3        694051\n",
              "4  1901-05-01  180.3        694081\n",
              "5  1901-06-01  168.5        694112\n",
              "6  1901-07-01  231.8        694142\n",
              "7  1901-08-01  224.5        694173\n",
              "8  1901-09-01  192.8        694204\n",
              "9  1901-10-01  122.9        694234\n",
              "10 1901-11-01  336.5        694265\n",
              "11 1901-12-01  185.9        694295\n",
              "12 1902-01-01  194.3        694326\n",
              "13 1902-02-01  149.5        694357\n",
              "14 1902-03-01  210.1        694385\n",
              "15 1902-04-01  273.3        694416\n",
              "16 1902-05-01  191.4        694446\n",
              "17 1902-06-01  287.0        694477\n",
              "18 1902-07-01  226.0        694507\n",
              "19 1902-08-01  303.6        694538\n",
              "20 1902-09-01  289.9        694569\n",
              "21 1902-10-01  421.6        694599\n",
              "22 1902-11-01  264.5        694630\n",
              "23 1902-12-01  342.3        694660\n",
              "24 1903-01-01  339.7        694691\n",
              "25 1903-02-01  440.4        694722\n",
              "26 1903-03-01  315.9        694750\n",
              "27 1903-04-01  439.3        694781\n",
              "28 1903-05-01  401.3        694811\n",
              "29 1903-06-01  437.4        694842\n",
              "30 1903-07-01  575.5        694872\n",
              "31 1903-08-01  407.6        694903\n",
              "32 1903-09-01  682.0        694934\n",
              "33 1903-10-01  475.3        694964\n",
              "34 1903-11-01  581.3        694995\n",
              "35 1903-12-01  646.9        695025"
            ]
          },
          "metadata": {
            "tags": []
          },
          "execution_count": 247
        }
      ]
    },
    {
      "cell_type": "code",
      "metadata": {
        "colab": {
          "base_uri": "https://localhost:8080/",
          "height": 1000
        },
        "id": "QMtqxpUH3-gH",
        "outputId": "bb8cf456-b8dd-4e73-d3b5-1fb753741300"
      },
      "source": [
        "series = series.drop(['Month'], axis=1)\r\n",
        "series"
      ],
      "execution_count": 248,
      "outputs": [
        {
          "output_type": "execute_result",
          "data": {
            "text/html": [
              "<div>\n",
              "<style scoped>\n",
              "    .dataframe tbody tr th:only-of-type {\n",
              "        vertical-align: middle;\n",
              "    }\n",
              "\n",
              "    .dataframe tbody tr th {\n",
              "        vertical-align: top;\n",
              "    }\n",
              "\n",
              "    .dataframe thead th {\n",
              "        text-align: right;\n",
              "    }\n",
              "</style>\n",
              "<table border=\"1\" class=\"dataframe\">\n",
              "  <thead>\n",
              "    <tr style=\"text-align: right;\">\n",
              "      <th></th>\n",
              "      <th>Sales</th>\n",
              "      <th>date_ordinal</th>\n",
              "    </tr>\n",
              "  </thead>\n",
              "  <tbody>\n",
              "    <tr>\n",
              "      <th>0</th>\n",
              "      <td>266.0</td>\n",
              "      <td>693961</td>\n",
              "    </tr>\n",
              "    <tr>\n",
              "      <th>1</th>\n",
              "      <td>145.9</td>\n",
              "      <td>693992</td>\n",
              "    </tr>\n",
              "    <tr>\n",
              "      <th>2</th>\n",
              "      <td>183.1</td>\n",
              "      <td>694020</td>\n",
              "    </tr>\n",
              "    <tr>\n",
              "      <th>3</th>\n",
              "      <td>119.3</td>\n",
              "      <td>694051</td>\n",
              "    </tr>\n",
              "    <tr>\n",
              "      <th>4</th>\n",
              "      <td>180.3</td>\n",
              "      <td>694081</td>\n",
              "    </tr>\n",
              "    <tr>\n",
              "      <th>5</th>\n",
              "      <td>168.5</td>\n",
              "      <td>694112</td>\n",
              "    </tr>\n",
              "    <tr>\n",
              "      <th>6</th>\n",
              "      <td>231.8</td>\n",
              "      <td>694142</td>\n",
              "    </tr>\n",
              "    <tr>\n",
              "      <th>7</th>\n",
              "      <td>224.5</td>\n",
              "      <td>694173</td>\n",
              "    </tr>\n",
              "    <tr>\n",
              "      <th>8</th>\n",
              "      <td>192.8</td>\n",
              "      <td>694204</td>\n",
              "    </tr>\n",
              "    <tr>\n",
              "      <th>9</th>\n",
              "      <td>122.9</td>\n",
              "      <td>694234</td>\n",
              "    </tr>\n",
              "    <tr>\n",
              "      <th>10</th>\n",
              "      <td>336.5</td>\n",
              "      <td>694265</td>\n",
              "    </tr>\n",
              "    <tr>\n",
              "      <th>11</th>\n",
              "      <td>185.9</td>\n",
              "      <td>694295</td>\n",
              "    </tr>\n",
              "    <tr>\n",
              "      <th>12</th>\n",
              "      <td>194.3</td>\n",
              "      <td>694326</td>\n",
              "    </tr>\n",
              "    <tr>\n",
              "      <th>13</th>\n",
              "      <td>149.5</td>\n",
              "      <td>694357</td>\n",
              "    </tr>\n",
              "    <tr>\n",
              "      <th>14</th>\n",
              "      <td>210.1</td>\n",
              "      <td>694385</td>\n",
              "    </tr>\n",
              "    <tr>\n",
              "      <th>15</th>\n",
              "      <td>273.3</td>\n",
              "      <td>694416</td>\n",
              "    </tr>\n",
              "    <tr>\n",
              "      <th>16</th>\n",
              "      <td>191.4</td>\n",
              "      <td>694446</td>\n",
              "    </tr>\n",
              "    <tr>\n",
              "      <th>17</th>\n",
              "      <td>287.0</td>\n",
              "      <td>694477</td>\n",
              "    </tr>\n",
              "    <tr>\n",
              "      <th>18</th>\n",
              "      <td>226.0</td>\n",
              "      <td>694507</td>\n",
              "    </tr>\n",
              "    <tr>\n",
              "      <th>19</th>\n",
              "      <td>303.6</td>\n",
              "      <td>694538</td>\n",
              "    </tr>\n",
              "    <tr>\n",
              "      <th>20</th>\n",
              "      <td>289.9</td>\n",
              "      <td>694569</td>\n",
              "    </tr>\n",
              "    <tr>\n",
              "      <th>21</th>\n",
              "      <td>421.6</td>\n",
              "      <td>694599</td>\n",
              "    </tr>\n",
              "    <tr>\n",
              "      <th>22</th>\n",
              "      <td>264.5</td>\n",
              "      <td>694630</td>\n",
              "    </tr>\n",
              "    <tr>\n",
              "      <th>23</th>\n",
              "      <td>342.3</td>\n",
              "      <td>694660</td>\n",
              "    </tr>\n",
              "    <tr>\n",
              "      <th>24</th>\n",
              "      <td>339.7</td>\n",
              "      <td>694691</td>\n",
              "    </tr>\n",
              "    <tr>\n",
              "      <th>25</th>\n",
              "      <td>440.4</td>\n",
              "      <td>694722</td>\n",
              "    </tr>\n",
              "    <tr>\n",
              "      <th>26</th>\n",
              "      <td>315.9</td>\n",
              "      <td>694750</td>\n",
              "    </tr>\n",
              "    <tr>\n",
              "      <th>27</th>\n",
              "      <td>439.3</td>\n",
              "      <td>694781</td>\n",
              "    </tr>\n",
              "    <tr>\n",
              "      <th>28</th>\n",
              "      <td>401.3</td>\n",
              "      <td>694811</td>\n",
              "    </tr>\n",
              "    <tr>\n",
              "      <th>29</th>\n",
              "      <td>437.4</td>\n",
              "      <td>694842</td>\n",
              "    </tr>\n",
              "    <tr>\n",
              "      <th>30</th>\n",
              "      <td>575.5</td>\n",
              "      <td>694872</td>\n",
              "    </tr>\n",
              "    <tr>\n",
              "      <th>31</th>\n",
              "      <td>407.6</td>\n",
              "      <td>694903</td>\n",
              "    </tr>\n",
              "    <tr>\n",
              "      <th>32</th>\n",
              "      <td>682.0</td>\n",
              "      <td>694934</td>\n",
              "    </tr>\n",
              "    <tr>\n",
              "      <th>33</th>\n",
              "      <td>475.3</td>\n",
              "      <td>694964</td>\n",
              "    </tr>\n",
              "    <tr>\n",
              "      <th>34</th>\n",
              "      <td>581.3</td>\n",
              "      <td>694995</td>\n",
              "    </tr>\n",
              "    <tr>\n",
              "      <th>35</th>\n",
              "      <td>646.9</td>\n",
              "      <td>695025</td>\n",
              "    </tr>\n",
              "  </tbody>\n",
              "</table>\n",
              "</div>"
            ],
            "text/plain": [
              "    Sales  date_ordinal\n",
              "0   266.0        693961\n",
              "1   145.9        693992\n",
              "2   183.1        694020\n",
              "3   119.3        694051\n",
              "4   180.3        694081\n",
              "5   168.5        694112\n",
              "6   231.8        694142\n",
              "7   224.5        694173\n",
              "8   192.8        694204\n",
              "9   122.9        694234\n",
              "10  336.5        694265\n",
              "11  185.9        694295\n",
              "12  194.3        694326\n",
              "13  149.5        694357\n",
              "14  210.1        694385\n",
              "15  273.3        694416\n",
              "16  191.4        694446\n",
              "17  287.0        694477\n",
              "18  226.0        694507\n",
              "19  303.6        694538\n",
              "20  289.9        694569\n",
              "21  421.6        694599\n",
              "22  264.5        694630\n",
              "23  342.3        694660\n",
              "24  339.7        694691\n",
              "25  440.4        694722\n",
              "26  315.9        694750\n",
              "27  439.3        694781\n",
              "28  401.3        694811\n",
              "29  437.4        694842\n",
              "30  575.5        694872\n",
              "31  407.6        694903\n",
              "32  682.0        694934\n",
              "33  475.3        694964\n",
              "34  581.3        694995\n",
              "35  646.9        695025"
            ]
          },
          "metadata": {
            "tags": []
          },
          "execution_count": 248
        }
      ]
    },
    {
      "cell_type": "markdown",
      "metadata": {
        "id": "tHeMRXT1cqOA"
      },
      "source": [
        "Chart"
      ]
    },
    {
      "cell_type": "code",
      "metadata": {
        "colab": {
          "base_uri": "https://localhost:8080/",
          "height": 516
        },
        "id": "cVB0T-dDXlPf",
        "outputId": "49913e74-6d4b-4de0-aa11-d5ab2ef38ae4"
      },
      "source": [
        "# visualize the relationship between the features and the response using scatterplots\r\n",
        "fig, axs = plt.subplots(1, 1, sharey=True)\r\n",
        "series.plot(kind='scatter', x='date_ordinal', y='Sales', ax=axs, figsize=(16, 8))"
      ],
      "execution_count": 249,
      "outputs": [
        {
          "output_type": "execute_result",
          "data": {
            "text/plain": [
              "<matplotlib.axes._subplots.AxesSubplot at 0x7f02a65849b0>"
            ]
          },
          "metadata": {
            "tags": []
          },
          "execution_count": 249
        },
        {
          "output_type": "display_data",
          "data": {
            "image/png": "[encoded data removed]",
            "text/plain": [
              "<Figure size 1152x576 with 1 Axes>"
            ]
          },
          "metadata": {
            "tags": [],
            "needs_background": "light"
          }
        }
      ]
    },
    {
      "cell_type": "markdown",
      "metadata": {
        "id": "laZHctTASZxG"
      },
      "source": [
        "Define X and y"
      ]
    },
    {
      "cell_type": "code",
      "metadata": {
        "id": "NHADFLkVSjUd"
      },
      "source": [
        "X = series.date_ordinal\r\n",
        "y = series.Sales"
      ],
      "execution_count": 250,
      "outputs": []
    },
    {
      "cell_type": "markdown",
      "metadata": {
        "id": "E2ZUsWehUgbU"
      },
      "source": [
        "Normalize data"
      ]
    },
    {
      "cell_type": "code",
      "metadata": {
        "colab": {
          "base_uri": "https://localhost:8080/"
        },
        "id": "vBG6BoShUjEP",
        "outputId": "424be9ce-2100-4130-90f4-23286bd83ed5"
      },
      "source": [
        "X = (X - X.mean()) / (X.max() - X.min())\r\n",
        "X"
      ],
      "execution_count": 251,
      "outputs": [
        {
          "output_type": "execute_result",
          "data": {
            "text/plain": [
              "0    -0.499530\n",
              "1    -0.470395\n",
              "2    -0.444079\n",
              "3    -0.414944\n",
              "4    -0.386748\n",
              "5    -0.357613\n",
              "6    -0.329417\n",
              "7    -0.300282\n",
              "8    -0.271147\n",
              "9    -0.242951\n",
              "10   -0.213816\n",
              "11   -0.185620\n",
              "12   -0.156485\n",
              "13   -0.127350\n",
              "14   -0.101034\n",
              "15   -0.071898\n",
              "16   -0.043703\n",
              "17   -0.014568\n",
              "18    0.013628\n",
              "19    0.042763\n",
              "20    0.071898\n",
              "21    0.100094\n",
              "22    0.129229\n",
              "23    0.157425\n",
              "24    0.186560\n",
              "25    0.215695\n",
              "26    0.242011\n",
              "27    0.271147\n",
              "28    0.299342\n",
              "29    0.328477\n",
              "30    0.356673\n",
              "31    0.385808\n",
              "32    0.414944\n",
              "33    0.443139\n",
              "34    0.472274\n",
              "35    0.500470\n",
              "Name: date_ordinal, dtype: float64"
            ]
          },
          "metadata": {
            "tags": []
          },
          "execution_count": 251
        }
      ]
    },
    {
      "cell_type": "markdown",
      "metadata": {
        "id": "GDVsLZ-MSsXD"
      },
      "source": [
        "Split data for training and validation"
      ]
    },
    {
      "cell_type": "code",
      "metadata": {
        "id": "tHz9F3S-gVLD",
        "colab": {
          "base_uri": "https://localhost:8080/"
        },
        "outputId": "57cc754a-44ed-4c7d-9142-5f6077ea7d6a"
      },
      "source": [
        "# split into train and test sets\n",
        "train_size = int(len(X) * 0.90)\n",
        "X_train, X_val = X[:train_size], X[train_size:]\n",
        "y_train, y_val = y[:train_size], y[train_size:]\n",
        "X_train.shape, y_train.shape, X_val.shape, y_val.shape"
      ],
      "execution_count": 252,
      "outputs": [
        {
          "output_type": "execute_result",
          "data": {
            "text/plain": [
              "((32,), (32,), (4,), (4,))"
            ]
          },
          "metadata": {
            "tags": []
          },
          "execution_count": 252
        }
      ]
    },
    {
      "cell_type": "markdown",
      "metadata": {
        "id": "1wnBFE-Z7m_D"
      },
      "source": [
        "Reshape"
      ]
    },
    {
      "cell_type": "code",
      "metadata": {
        "colab": {
          "base_uri": "https://localhost:8080/"
        },
        "id": "NpPnLcNS7L3x",
        "outputId": "e75211c2-dd07-4330-c5e1-d53f5ff35a7f"
      },
      "source": [
        "X_train = X_train.values.reshape(-1,1)\r\n",
        "X_val = X_val.values.reshape(-1,1)\r\n",
        "X_train.shape, y_train.shape, X_val.shape, y_val.shape"
      ],
      "execution_count": 253,
      "outputs": [
        {
          "output_type": "execute_result",
          "data": {
            "text/plain": [
              "((32, 1), (32,), (4, 1), (4,))"
            ]
          },
          "metadata": {
            "tags": []
          },
          "execution_count": 253
        }
      ]
    },
    {
      "cell_type": "markdown",
      "metadata": {
        "id": "pJaXZN4y2zMl"
      },
      "source": [
        "Define model"
      ]
    },
    {
      "cell_type": "code",
      "metadata": {
        "colab": {
          "base_uri": "https://localhost:8080/"
        },
        "id": "nONvutTn22-c",
        "outputId": "2bc622d7-1872-4cab-9afa-240e5c665abb"
      },
      "source": [
        "from sklearn.neural_network import MLPRegressor\r\n",
        "\r\n",
        "model = MLPRegressor(hidden_layer_sizes=(800,), random_state=1, solver='lbfgs', max_iter=1000, verbose=True).fit(X_train, y_train)\r\n",
        "y_pred = model.predict(X_val)\r\n",
        "y_pred"
      ],
      "execution_count": 254,
      "outputs": [
        {
          "output_type": "execute_result",
          "data": {
            "text/plain": [
              "array([503.8721239 , 522.52145945, 541.90315081, 560.6595793 ])"
            ]
          },
          "metadata": {
            "tags": []
          },
          "execution_count": 254
        }
      ]
    },
    {
      "cell_type": "markdown",
      "metadata": {
        "id": "EG9_7D0S9ts-"
      },
      "source": [
        "Check error"
      ]
    },
    {
      "cell_type": "code",
      "metadata": {
        "colab": {
          "base_uri": "https://localhost:8080/"
        },
        "id": "Xz_A_pGP9v7n",
        "outputId": "056ae1ff-5d06-4a73-982d-cffe7cab3477"
      },
      "source": [
        "from sklearn.metrics import mean_squared_error\r\n",
        "\r\n",
        "mean_squared_error(y_val, y_pred)"
      ],
      "execution_count": 255,
      "outputs": [
        {
          "output_type": "execute_result",
          "data": {
            "text/plain": [
              "10737.232091259693"
            ]
          },
          "metadata": {
            "tags": []
          },
          "execution_count": 255
        }
      ]
    },
    {
      "cell_type": "code",
      "metadata": {
        "colab": {
          "base_uri": "https://localhost:8080/",
          "height": 164
        },
        "id": "KVGuMB_9-3Bj",
        "outputId": "0a81f016-8233-4f4d-a395-eb4c0540bb91"
      },
      "source": [
        "df_val = pd.DataFrame({'Actual': y_val, 'Predicted': y_pred})\r\n",
        "df_val"
      ],
      "execution_count": 256,
      "outputs": [
        {
          "output_type": "execute_result",
          "data": {
            "text/html": [
              "<div>\n",
              "<style scoped>\n",
              "    .dataframe tbody tr th:only-of-type {\n",
              "        vertical-align: middle;\n",
              "    }\n",
              "\n",
              "    .dataframe tbody tr th {\n",
              "        vertical-align: top;\n",
              "    }\n",
              "\n",
              "    .dataframe thead th {\n",
              "        text-align: right;\n",
              "    }\n",
              "</style>\n",
              "<table border=\"1\" class=\"dataframe\">\n",
              "  <thead>\n",
              "    <tr style=\"text-align: right;\">\n",
              "      <th></th>\n",
              "      <th>Actual</th>\n",
              "      <th>Predicted</th>\n",
              "    </tr>\n",
              "  </thead>\n",
              "  <tbody>\n",
              "    <tr>\n",
              "      <th>32</th>\n",
              "      <td>682.0</td>\n",
              "      <td>503.872124</td>\n",
              "    </tr>\n",
              "    <tr>\n",
              "      <th>33</th>\n",
              "      <td>475.3</td>\n",
              "      <td>522.521459</td>\n",
              "    </tr>\n",
              "    <tr>\n",
              "      <th>34</th>\n",
              "      <td>581.3</td>\n",
              "      <td>541.903151</td>\n",
              "    </tr>\n",
              "    <tr>\n",
              "      <th>35</th>\n",
              "      <td>646.9</td>\n",
              "      <td>560.659579</td>\n",
              "    </tr>\n",
              "  </tbody>\n",
              "</table>\n",
              "</div>"
            ],
            "text/plain": [
              "    Actual   Predicted\n",
              "32   682.0  503.872124\n",
              "33   475.3  522.521459\n",
              "34   581.3  541.903151\n",
              "35   646.9  560.659579"
            ]
          },
          "metadata": {
            "tags": []
          },
          "execution_count": 256
        }
      ]
    },
    {
      "cell_type": "markdown",
      "metadata": {
        "id": "M9ccHK40UrNz"
      },
      "source": [
        "Graph of predictions"
      ]
    },
    {
      "cell_type": "code",
      "metadata": {
        "id": "D2_pDzjJgn41",
        "colab": {
          "base_uri": "https://localhost:8080/",
          "height": 266
        },
        "outputId": "3c8e1854-3aa5-449e-e3aa-dac6bb30cb8f"
      },
      "source": [
        "# plot predictions and expected results\n",
        "plt.plot(y_train)\n",
        "plt.plot([None for i in y_train] + [x for x in y_val])\n",
        "plt.plot([None for i in y_train] + [x for x in y_pred])\n",
        "plt.show()"
      ],
      "execution_count": 257,
      "outputs": [
        {
          "output_type": "display_data",
          "data": {
            "image/png": "[encoded data removed]",
            "text/plain": [
              "<Figure size 432x288 with 1 Axes>"
            ]
          },
          "metadata": {
            "tags": [],
            "needs_background": "light"
          }
        }
      ]
    },
    {
      "cell_type": "code",
      "metadata": {
        "id": "heLqpd5KjA5F",
        "colab": {
          "base_uri": "https://localhost:8080/",
          "height": 164
        },
        "outputId": "829aa1d8-2ca2-48df-bb14-78c6688bd2ba"
      },
      "source": [
        "final_result = pd.DataFrame({'Month': series.index[train_size:], 'Sales': y_pred})\n",
        "final_result"
      ],
      "execution_count": 258,
      "outputs": [
        {
          "output_type": "execute_result",
          "data": {
            "text/html": [
              "<div>\n",
              "<style scoped>\n",
              "    .dataframe tbody tr th:only-of-type {\n",
              "        vertical-align: middle;\n",
              "    }\n",
              "\n",
              "    .dataframe tbody tr th {\n",
              "        vertical-align: top;\n",
              "    }\n",
              "\n",
              "    .dataframe thead th {\n",
              "        text-align: right;\n",
              "    }\n",
              "</style>\n",
              "<table border=\"1\" class=\"dataframe\">\n",
              "  <thead>\n",
              "    <tr style=\"text-align: right;\">\n",
              "      <th></th>\n",
              "      <th>Month</th>\n",
              "      <th>Sales</th>\n",
              "    </tr>\n",
              "  </thead>\n",
              "  <tbody>\n",
              "    <tr>\n",
              "      <th>0</th>\n",
              "      <td>32</td>\n",
              "      <td>503.872124</td>\n",
              "    </tr>\n",
              "    <tr>\n",
              "      <th>1</th>\n",
              "      <td>33</td>\n",
              "      <td>522.521459</td>\n",
              "    </tr>\n",
              "    <tr>\n",
              "      <th>2</th>\n",
              "      <td>34</td>\n",
              "      <td>541.903151</td>\n",
              "    </tr>\n",
              "    <tr>\n",
              "      <th>3</th>\n",
              "      <td>35</td>\n",
              "      <td>560.659579</td>\n",
              "    </tr>\n",
              "  </tbody>\n",
              "</table>\n",
              "</div>"
            ],
            "text/plain": [
              "   Month       Sales\n",
              "0     32  503.872124\n",
              "1     33  522.521459\n",
              "2     34  541.903151\n",
              "3     35  560.659579"
            ]
          },
          "metadata": {
            "tags": []
          },
          "execution_count": 258
        }
      ]
    },
    {
      "cell_type": "code",
      "metadata": {
        "id": "BWxVqlTHjOAl",
        "colab": {
          "base_uri": "https://localhost:8080/"
        },
        "outputId": "c026e918-ec2c-42ec-f8e7-6af305ee245e"
      },
      "source": [
        "final_result.to_csv('submission.csv', index=False)\n",
        "print(\"Your submission was successfully saved!\")"
      ],
      "execution_count": 259,
      "outputs": [
        {
          "output_type": "stream",
          "text": [
            "Your submission was successfully saved!\n"
          ],
          "name": "stdout"
        }
      ]
    },
    {
      "cell_type": "code",
      "metadata": {
        "id": "IzoriIlqjQHo",
        "colab": {
          "base_uri": "https://localhost:8080/",
          "height": 164
        },
        "outputId": "b12e80dc-f5ae-4987-aa7f-085fab2fab05"
      },
      "source": [
        "#upload submission\n",
        "submission = pd.read_csv(\"submission.csv\")\n",
        "submission"
      ],
      "execution_count": 260,
      "outputs": [
        {
          "output_type": "execute_result",
          "data": {
            "text/html": [
              "<div>\n",
              "<style scoped>\n",
              "    .dataframe tbody tr th:only-of-type {\n",
              "        vertical-align: middle;\n",
              "    }\n",
              "\n",
              "    .dataframe tbody tr th {\n",
              "        vertical-align: top;\n",
              "    }\n",
              "\n",
              "    .dataframe thead th {\n",
              "        text-align: right;\n",
              "    }\n",
              "</style>\n",
              "<table border=\"1\" class=\"dataframe\">\n",
              "  <thead>\n",
              "    <tr style=\"text-align: right;\">\n",
              "      <th></th>\n",
              "      <th>Month</th>\n",
              "      <th>Sales</th>\n",
              "    </tr>\n",
              "  </thead>\n",
              "  <tbody>\n",
              "    <tr>\n",
              "      <th>0</th>\n",
              "      <td>32</td>\n",
              "      <td>503.872124</td>\n",
              "    </tr>\n",
              "    <tr>\n",
              "      <th>1</th>\n",
              "      <td>33</td>\n",
              "      <td>522.521459</td>\n",
              "    </tr>\n",
              "    <tr>\n",
              "      <th>2</th>\n",
              "      <td>34</td>\n",
              "      <td>541.903151</td>\n",
              "    </tr>\n",
              "    <tr>\n",
              "      <th>3</th>\n",
              "      <td>35</td>\n",
              "      <td>560.659579</td>\n",
              "    </tr>\n",
              "  </tbody>\n",
              "</table>\n",
              "</div>"
            ],
            "text/plain": [
              "   Month       Sales\n",
              "0     32  503.872124\n",
              "1     33  522.521459\n",
              "2     34  541.903151\n",
              "3     35  560.659579"
            ]
          },
          "metadata": {
            "tags": []
          },
          "execution_count": 260
        }
      ]
    }
  ]
}